{
 "cells": [
  {
   "cell_type": "code",
   "execution_count": 60,
   "metadata": {},
   "outputs": [],
   "source": [
    "from selenium import webdriver\n",
    "from selenium.webdriver.common.by import By\n",
    "\n",
    "def browswer():\n",
    "    browswer=webdriver.Chrome(executable_path =r\"C:\\Users\\user\\chromedriver\\chromedriver.exe\")\n",
    "    browswer.get('https://accounts.google.com/signin/v2/identifier?service=mail&passive=1209600&osid=1&continue=https%3A%2F%2Fmail.google.com%2Fmail%2Fu%2F0%2F&followup=https%3A%2F%2Fmail.google.com%2Fmail%2Fu%2F0%2F&emr=1&flowName=GlifWebSignIn&flowEntry=ServiceLogin')"
   ]
  },
  {
   "cell_type": "code",
   "execution_count": 62,
   "metadata": {},
   "outputs": [],
   "source": [
    "#輸入信箱並捕捉錯誤\n",
    "from bs4 import BeautifulSoup\n",
    "import time\n",
    "#目前無法登入處理\n",
    "def nowfail(mail):\n",
    "    \n",
    "    entermail(mail)\n",
    "def entermail(mail):\n",
    "    browswer.find_element(By.XPATH,'/html/body/div[1]/div[1]/div[2]/div/div[2]/div/div/div[2]/div/div[1]/div/form/span/section/div/div/div[1]/div/div[1]/div/div[1]/input').send_keys(mail)\n",
    "    browswer.find_element(By.XPATH,'/html/body/div[1]/div[1]/div[2]/div/div[2]/div/div/div[2]/div/div[2]/div/div[1]/div/div/button/span').click()\n",
    "    time.sleep(2)\n",
    "    try:\n",
    "        if browswer.find_element(By.XPATH,'/html/body/div[1]/div[1]/div[2]/div/div[2]/div/div/div[1]/div/h1/span').text==\"目前無法登入帳戶\":\n",
    "            print(\"頁面目前無法登入帳戶\")\n",
    "            browswer.close()\n",
    "            browswer()\n",
    "            nowfail(mail)\n",
    "        er=browswer.find_element(By.XPATH,'/html/body/div[1]/div[1]/div[2]/div/div[2]/div/div/div[2]/div/div[1]/div/form/span/section/div/div/div[1]/div/div[2]/div[2]/div').text\n",
    "        print(er)\n",
    "    except:\n",
    "        pass\n"
   ]
  },
  {
   "cell_type": "code",
   "execution_count": 18,
   "metadata": {},
   "outputs": [
    {
     "name": "stdout",
     "output_type": "stream",
     "text": [
      "I'm args and value is [{'name': 10, 'value': 20}, 1, 2, 3]\n",
      "I'm args and value is 12364\n",
      "I'm kwargs and key and value is name=1023\n",
      "I'm kwargs and key and value is value=20\n"
     ]
    }
   ],
   "source": [
    "def func(*args, **kwargs):\n",
    "    for item in args:\n",
    "        print(\"I'm args and value is {0}\".format(item))\n",
    "    for key, value in kwargs.items():\n",
    "        print(\"I'm kwargs and key and value is {0}={1}\".format(key, value))\n",
    "\n",
    "\n",
    "func([{'name': 10,'value': 20}, 1, 2, 3], 12364)\n",
    "\n",
    "func(name=1023)\n",
    "func(value=20)"
   ]
  },
  {
   "cell_type": "code",
   "execution_count": 21,
   "metadata": {},
   "outputs": [
    {
     "name": "stdout",
     "output_type": "stream",
     "text": [
      "Hi\n",
      "World\n"
     ]
    }
   ],
   "source": [
    "def printArg(arg):\n",
    "    def decorator(func):\n",
    "        def wrapper(*args, **kwargs):\n",
    "            print(arg)\n",
    "            return func(*args, **kwargs)\n",
    "\n",
    "        return wrapper\n",
    "\n",
    "    return decorator\n",
    "\n",
    "@printArg('Hi')\n",
    "def sayHiAndPrintArg(arg):\n",
    "    print(arg)\n",
    "\n",
    "\n",
    "sayHiAndPrintArg('World')"
   ]
  },
  {
   "cell_type": "code",
   "execution_count": 36,
   "metadata": {},
   "outputs": [
    {
     "name": "stdout",
     "output_type": "stream",
     "text": [
      "123\n"
     ]
    }
   ],
   "source": [
    "def x():\n",
    "    print(\"123\")\n",
    "if x():\n",
    "    print('1')"
   ]
  },
  {
   "cell_type": "code",
   "execution_count": 2,
   "metadata": {},
   "outputs": [],
   "source": [
    "#一次寄多個\n",
    "from distutils.log import error\n",
    "import tkinter as tk\n",
    "from tkinter import font\n",
    "from tkinter.ttk import Spinbox\n",
    "from tkinter import ttk\n",
    "import subprocess\n",
    "from turtle import fillcolor, filling, left, right\n",
    "from xml.etree.ElementTree import Comment\n",
    "import pandas as pd\n",
    "from tkinter import END, EW, HORIZONTAL, VERTICAL, filedialog,messagebox\n",
    "import openpyxl\n",
    "import smtplib\n",
    "from email.mime.multipart import MIMEMultipart\n",
    "from email.mime.text import MIMEText\n",
    "from email.mime.application import MIMEApplication\n",
    "import time\n",
    "import re\n",
    "import log\n",
    "import logging\n",
    "import os\n",
    "import errorcode\n",
    "from pathlib import Path\n",
    "logger = logging.getLogger('robot')\n",
    "#上傳文件\n",
    "def upload_file(entry):\n",
    "    entry.delete(0, END)\n",
    "    selectFile = tk.filedialog.askopenfilename(filetypes =((\"xlsx files\",\"*.xlsx\"),(\"xls files\",\"*.xls\"))) \n",
    "    entry.insert(0, selectFile)\n",
    "def uploadappendix_file():\n",
    "    selectFiles = tk.filedialog.askopenfilenames()\n",
    "    for i, e in enumerate(selectFiles):          # 使用 enumerate 將串列變成帶有索引值的字典\n",
    "        appendix.insert('end', f'{e}')         # Text 從後方加入內容\n",
    "        if i != len(selectFiles):\n",
    "            appendix.insert('end', '\\n')   \n",
    "   \n",
    "#偵測寄件人excel裡面是否包含前後空白，並做tuple處理\n",
    "def getupload_fileload_senderentry(upload_fileload_senderentry):\n",
    "    global sender\n",
    "    try:\n",
    "        df= pd.read_excel(upload_fileload_senderentry)\n",
    "    except Exception as e:\n",
    "        return messagebox.showerror(title='寄件人檔案路徑有誤',message='請輸入正確寄件人檔案路徑')\n",
    "    if df.shape[1] != 2:\n",
    "        messagebox.showerror(title='寄件人檔案格式有誤',message='寄件人檔案格式有誤，請確認')\n",
    "        sendbutton['state']=tk.NORMAL\n",
    "        val.set('0%')\n",
    "        return logger.warning(f'寄件人檔案格式有誤，停止寄送')\n",
    "    else:\n",
    "        df.columns=['郵箱','密碼']\n",
    "        sender=[]\n",
    "        for i in df.values:\n",
    "            l=[]\n",
    "            for j in i:\n",
    "                l.append(str(j).strip())\n",
    "            sender.append(tuple(l))\n",
    "        return sender\n",
    "   \n",
    "def getupload_fileload_recipient(recipientlist,most):\n",
    "    global recipient\n",
    "    try:\n",
    "        temp=[]\n",
    "        try:\n",
    "            for i in range(most):\n",
    "                temp.append(recipientlist.pop(0))\n",
    "        except:\n",
    "            recipient=','.join([str(i) for i in temp])\n",
    "            return recipient\n",
    "        recipient=','.join([str(i) for i in temp])\n",
    "        return recipient\n",
    "    except:\n",
    "        return messagebox.showerror(title='收件人檔案路徑有誤',message='請輸入正確收件人檔案路徑')\n",
    "\n",
    "\n",
    "def checkrecipient(recipientopen):\n",
    "    checkrecipientlist=[]\n",
    "    recipientlist=[]\n",
    "    for i in recipientopen['郵箱']:\n",
    "        if re.search('^[a-z0-9A-z.]+@[a-z]+.[a-z]+$|^[A-za-z0-9.]@[a-z]+.[a-z]+.[a-z]+$',str(i).strip()):\n",
    "            recipientlist.append(i)\n",
    "            checkrecipientlist.append([str(i).strip(),'待寄送','-'])\n",
    "        else:\n",
    "            checkrecipientlist.append([str(i).strip(),'寄送失敗','收件人格式有誤'])\n",
    "    checkrecipientlistdf=pd.DataFrame(checkrecipientlist,columns=['收件人','寄送狀態','錯誤原因']).set_index('收件人')\n",
    "    print(checkrecipientlistdf)\n",
    "    return recipientlist,checkrecipientlistdf\n",
    "def mostnumber(input):\n",
    "    if input.isdigit():\n",
    "        if 0<int(input)<501:\n",
    "            return True\n",
    "        else:\n",
    "            return False\n",
    "    elif input==\"\":\n",
    "        return True\n",
    "    else:\n",
    "        return False\n",
    "def login(fromm,pas):\n",
    "    with smtplib.SMTP(host=\"smtp.gmail.com\", port=\"587\") as smtp:\n",
    "        try:\n",
    "            smtp.ehlo()  # 驗證SMTP伺服器\n",
    "            smtp.starttls()  # 建立加密傳輸\n",
    "            smtp.login(fromm,pas)  # 登入寄件者gmail\n",
    "            logger.info(f'{fromm}登入成功')\n",
    "\n",
    "        except Exception as e:\n",
    "            logger.warning(f'{fromm}無法登入，回傳{fromm,\"-\",\"寄送失敗!\",str(e)}')\n",
    "            return fromm,\"-\",\"寄送失敗!\",str(e)\n",
    "def send(title,fromm,pas,sep,html_text,**test):\n",
    "    with smtplib.SMTP(host=\"smtp.gmail.com\", port=\"587\") as smtp:  # 設定SMTP伺服器 \n",
    "        #print(title,fromm,pas,sep,html)\n",
    "        try:\n",
    "            smtp.ehlo()  # 驗證SMTP伺服器\n",
    "            smtp.starttls()  # 建立加密傳輸\n",
    "            smtp.login(fromm,pas)  # 登入寄件者gmail\n",
    "            content = MIMEMultipart()  #建立MIMEMultipart物件\n",
    "            content[\"subject\"] = title  #郵件標題\n",
    "            content[\"from\"] = fromm  #寄件者\n",
    "            #content[\"to\"] = \"taiwinner.0246@gmail.com,gleam542@gmail.com\" #收件者\n",
    "            #content['cc']=\"taiwinner.0246@gmail.com,gleam542@gmail.com,gleam5422@gmail.com\" #副本\n",
    "            content['bcc']=sep #密件副本\n",
    "            content.attach(MIMEText(html_text,'html'))\n",
    "            for i in appendixload:\n",
    "                part_attach1 = MIMEApplication(open('%s'%i,'rb').read())   #開啟附件\n",
    "                part_attach1.add_header('Content-Disposition','attachment',filename='%s'%(i.split('/')[-1]))#為附件命名\n",
    "                content.attach(part_attach1)\n",
    "            smtp.send_message(content)  # 寄送郵件\n",
    "            logger.debug(f'{fromm}寄給{sep}已寄送，回傳{fromm,sep,\"已寄送!\",\"-\"}')\n",
    "            return fromm,sep,\"已寄送!\",\"-\"\n",
    "        except Exception as e:\n",
    "            logger.warning(f'{fromm}寄給{sep}寄送失敗，回傳{fromm,sep,\"寄送失敗!\",str(e)}')\n",
    "            return fromm,sep,\"寄送失敗!\",str(e)\n",
    "def errorcodecheck(errorcode1):\n",
    "    return errorcode.CODE_DICT[errorcode1]\n",
    "def confirm():\n",
    "    global appendixload\n",
    "    global processbar\n",
    "    global val\n",
    "    if not 'xls' in upload_fileload_entry1.get():\n",
    "        logger.warning(f'confirm寄件人彈窗:{upload_fileload_entry1.get()}--->寄件人檔案路徑有誤')\n",
    "        return messagebox.showwarning(title='寄件人檔案路徑有誤',message='請輸入正確寄件人檔案路徑')\n",
    "    elif not 'xls' in upload_fileload_entry2.get():\n",
    "        logger.warning(f'confirm收件人彈窗:{upload_fileload_entry2.get()}--->收件人檔案路徑有誤')\n",
    "        return messagebox.showwarning(title='收件人檔案路徑有誤',message='請輸入正確收件人檔案路徑')\n",
    "    elif subject.get()=='':\n",
    "        logger.warning(f'confirm主旨彈窗:{subject.get()}--->主旨為空')\n",
    "        return messagebox.showwarning(title='主旨',message='請輸入主旨')\n",
    "    elif textExample.get(1.0,'end')=='\\n':\n",
    "        logger.warning(f\"confirm內文彈窗:{textExample.get(1.0,'end')}--->內文為空\")\n",
    "        return messagebox.showwarning(title='內文',message='請輸入內文')\n",
    "    #判斷完寄、收、主、內後判斷附件\n",
    "    else:\n",
    "        appendixload=appendix.get(1.0,'end').split('\\n')[:-2]\n",
    "        appendixload=[i.strip() for i in list(set(appendixload)) if i.strip()!='']\n",
    "        logger.debug(f\"confirm附件路徑:{appendixload}\")\n",
    "    result = messagebox.askyesno(title='確認一下',message=\"---請確認下列資訊是否正確---\\n寄件者檔案路徑:%s\\n收件者檔案路徑:%s\\n收件人上限:%s\\n主旨:%s\\n夾帶附件路徑:%s\"%(upload_fileload_entry1.get(),upload_fileload_entry2.get(),mostsend.get(),subject.get(),appendixload))\n",
    "    logger.info(f\"confirm結果彈窗:{result}，面板資訊:{upload_fileload_entry1.get(),upload_fileload_entry2.get(),mostsend.get(),subject.get(),appendixload}\")\n",
    "\n",
    "    if result :\n",
    "        sendbutton['state']=tk.DISABLED#禁止傳送可以用\n",
    "        val.set(f'寄送中...')\n",
    "        frm.update()\n",
    "        if appendix!=[]:#如果附件不為空\n",
    "            appendixallsize=0\n",
    "            for i in appendixload:\n",
    "                if not os.path.isfile(i):\n",
    "                    sendbutton['state']=tk.NORMAL\n",
    "                    val.set('0%')\n",
    "                    logger.warning(f\"confirm附件:{appendixload}--->附件檔案路徑有誤\")\n",
    "                    return messagebox.showwarning(title='附件檔案路徑有誤',message='附件路徑%s有誤，請確認附件路徑'%i)\n",
    "                else:\n",
    "                    file_size =Path(r'%s'%i).stat().st_size\n",
    "                    logger.info(f\"confirm附件大小:{i,file_size}\")\n",
    "                    appendixallsize+=file_size\n",
    "            logger.info(f\"confirm附件大小總和:{appendixallsize}\")\n",
    "            if appendixallsize>26214400:\n",
    "                sendbutton['state']=tk.NORMAL\n",
    "                val.set('0%')\n",
    "                logger.warning(f\"confirm附件大小彈窗:總檔案大小超過25MB\")\n",
    "                return messagebox.showerror(title='總檔案大小太大',message='總檔案大小超過25MB')\n",
    "        statelist=[]#設一statelist狀態list之後做成excel用\n",
    "        loginstate=[]\n",
    "        #測試收件者檔案路徑對不對\n",
    "        try:\n",
    "            recipientopen=pd.read_excel(upload_fileload_entry2.get())\n",
    "        except:\n",
    "            sendbutton['state']=tk.NORMAL\n",
    "            val.set('0%')\n",
    "            logger.warning(f\"confirmresult附件大小後收信人彈窗:{upload_fileload_entry2.get()}--->請輸入正確收件人檔案路徑\")\n",
    "            return messagebox.showerror(title='收件人檔案路徑有誤',message='請輸入正確收件人檔案路徑')\n",
    "        #判斷收信人格式\n",
    "        if recipientopen.shape[1] !=1:\n",
    "            messagebox.showerror(title='收件人格式有誤',message='收件人檔案格式有誤，請確認')\n",
    "            logger.warning('收件人檔案格式有誤，停止寄送')\n",
    "            sendbutton['state']=tk.NORMAL\n",
    "            val.set('0%')\n",
    "        else:\n",
    "        #將收件者檔案的COLUMN重命名並進checkrecipient資料處理\n",
    "            recipientopen.columns=['郵箱']\n",
    "            \n",
    "            #recipientlist=[i for i in recipientopen['郵箱']]\n",
    "            recipientinfo=checkrecipient(recipientopen)\n",
    "            #recipientlist=recipientinfo[0]\n",
    "            recipientlist=list(set(recipientinfo[0]))\n",
    "            recipientlist.sort(key=recipientinfo[0].index)\n",
    "            #recipientlistrepeat=[x for x in recipientlist if x not in recipientlistset]\n",
    "            recipientdf=recipientinfo[1]\n",
    "        \n",
    "        #執行寄件人寄送\n",
    "        logger.info('開始進行寄送...')\n",
    "        processbar_count=0\n",
    "\n",
    "        if getupload_fileload_senderentry(r'%s'%upload_fileload_entry1.get())==None:#寄件人檔案格式有誤(抓不到值)，停止寄送時觸發\n",
    "           return \n",
    "        recipiented=[]\n",
    "        for senders in getupload_fileload_senderentry(r'%s'%upload_fileload_entry1.get()):\n",
    "            if not login(senders[0],senders[1]):#判斷可正常登入\n",
    "                loginstate.append([senders[0],senders[1],'登入成功','-'])\n",
    "                if len(recipientlist)==0:#判斷收件人LIST是否為0，因會逐一取出越來越短\n",
    "                    statelist.append((senders[0],'-','寄送失敗!','收件人不足'))\n",
    "                    logger.warning(f'全部收信人已寄送完成!已無收信人!剩餘寄信人:{sender[sender.index(senders)+1]}')\n",
    "                    if processbar_count< processbar['maximum']:\n",
    "                        processbar_count = processbar_count + 100/len(sender)\n",
    "                        processbar['value'] = processbar_count\n",
    "                        val.set(f'寄送中...{int(processbar_count)}%') \n",
    "                        frm.update()\n",
    "                        time.sleep(0.01)\n",
    "                    continue\n",
    "                \n",
    "                \n",
    "            \n",
    "                now_getupload_fileload_recipient=getupload_fileload_recipient(recipientlist,int(mostsend.get()))\n",
    "                #print('now_getupload_fileload_recipient1:%s'%now_getupload_fileload_recipient)\n",
    "                now_getupload_fileload_recipientlist=now_getupload_fileload_recipient.split(',')\n",
    "                #now_getupload_fileload_recipientlist=[str(x).strip() for x in now_getupload_fileload_recipientlist if str(x).strip() not in recipiented]\n",
    "                #now_getupload_fileload_recipient=','.join([str(i) for i in now_getupload_fileload_recipientlist])\n",
    "                #print(now_getupload_fileload_recipient)\n",
    "                #print(f'recipiented{recipiented}')\n",
    "                #print(f'now_getupload_fileload_recipientlist2:{now_getupload_fileload_recipientlist}')\n",
    "                for i in now_getupload_fileload_recipientlist:\n",
    "                    recipiented.append(i)\n",
    "                \n",
    "                dist={'title':str(subject.get()),\n",
    "                'pas':senders[1],\n",
    "                'sep':now_getupload_fileload_recipient,\n",
    "                'html_text':textExample.get(1.0,'end'),\n",
    "                'fromm':senders[0]}\n",
    "                logger.info(f'獲取{dist}')\n",
    "                sendliist=list(send(**dist))\n",
    "                for i in now_getupload_fileload_recipientlist:\n",
    "                    recipientdf['寄送狀態'][str(i).strip()]='已寄送'\n",
    "                try:\n",
    "                    if sendliist[3]!='-':\n",
    "                        print(sendliist[3])\n",
    "                        print(errorcode.CODE_DICT[sendliist[3][1:13]])\n",
    "                        sendliist[3]=errorcode.CODE_DICT[sendliist[3][1:13]]['msg']\n",
    "                        statelist.append(sendliist)\n",
    "                    else:\n",
    "                        statelist.append(sendliist)\n",
    "                except:\n",
    "                    statelist.append(sendliist)\n",
    "                if processbar_count< processbar['maximum']:\n",
    "                    processbar_count = processbar_count + 100/len(sender)\n",
    "                    processbar['value'] = processbar_count\n",
    "                    val.set(f'寄送中...{int(processbar_count)}%') \n",
    "                    frm.update()\n",
    "                    time.sleep(0.01)\n",
    "            else:\n",
    "                loginfalselist=list(login(senders[0],senders[1]))\n",
    "                loginfalselist[3]=errorcode.CODE_DICT[loginfalselist[3][1:13]]['msg']\n",
    "                loginstate.append([senders[0],senders[1],'登入失敗',loginfalselist[3]])\n",
    "                statelist.append(loginfalselist)\n",
    "                processbar_count = processbar_count + 100/len(sender)\n",
    "                processbar['value'] = processbar_count\n",
    "                val.set(f'寄送中...{int(processbar_count)}%') \n",
    "                frm.update()\n",
    "                time.sleep(0.01)\n",
    "        if int(processbar_count)== processbar['maximum']:\n",
    "            val.set(f'所有寄信人已寄送指定數量收信人完成!{int(processbar_count)}%')\n",
    "            frm.update()\n",
    "            sendbutton['state']=tk.NORMAL\n",
    "        print('所有寄信人已寄送指定數量收信人完成!')\n",
    "        if len(recipientlist)!=0:\n",
    "            logger.debug(f\"寄件人都已寄送指定收件人，無剩餘寄件人，剩餘收件人:{recipientlist}\")\n",
    "            for i in recipientlist:\n",
    "                recipientdf['寄送狀態'][str(i).strip()]='寄送失敗'\n",
    "                recipientdf['錯誤原因'][str(i).strip()]='寄件人不足'\n",
    "                statelist.append(('-',i,'寄送失敗!','寄件人不足'))\n",
    "        logindf=pd.DataFrame(loginstate,columns=['帳號','密碼','登入狀態','錯誤原因']).set_index('帳號')\n",
    "        statedf=pd.DataFrame(statelist,columns=['寄件人','收件人','寄送狀態','錯誤原因']).set_index('寄件人')\n",
    "        localtime = time.localtime()\n",
    "        resulttime = time.strftime(\"%Y-%m-%d %p%I.%M.%S \", localtime)\n",
    "        logindf.to_excel('寄件人登入狀態%s.xlsx'%resulttime)\n",
    "        recipientdf.to_excel('收件人寄送狀態%s.xlsx'%resulttime)    \n",
    "        statedf.to_excel('寄送狀態總覽%s.xlsx'%resulttime)   \n",
    "        \n",
    "          \n",
    "        \n",
    "\n",
    "root = tk.Tk()\n",
    "root.title('批量發送郵件機器人')\n",
    "frm = tk.Frame(root)\n",
    "frm.grid(padx='20', pady='50')\n",
    "\n",
    "\n",
    "\n",
    "tk.Label(frm, text='郵件伺服器:').grid(row=0,column=0)\n",
    "tk.Label(frm, text='gmail').grid(row=0,column=1)\n",
    "\n",
    "\n",
    "tk.Label(frm, text='寄件人檔案:').grid(row=1,column=0)\n",
    "upload_fileload_entry1 = tk.Entry(frm, width='60')\n",
    "upload_fileload_entry1.grid(row=1, column=1)\n",
    "uploadbtn = tk.Button(frm, text='點此選擇寄件者EXCEL檔', command=lambda:upload_file(upload_fileload_entry1), background='#7fffd4').grid(row=1, column=3)\n",
    "\n",
    "tk.Label(frm, text='收件人檔案:').grid(row=2,column=0)\n",
    "upload_fileload_entry2 = tk.Entry(frm, width='60')\n",
    "upload_fileload_entry2.grid(row=2, column=1)\n",
    "uploadbtn = tk.Button(frm, text='點此選擇收件者EXCEL檔', command=lambda:upload_file(upload_fileload_entry2), background='bisque').grid(row=2, column=3)\n",
    "\n",
    "tk.Label(frm, text='每一個寄件者寄:').grid(row=3,column=0)\n",
    "mostsend=tk.Spinbox(frm,width=59,from_=1,to_=500,increment=2)\n",
    "mostsend.grid(row=3,column=1)\n",
    "reg=frm.register(mostnumber)\n",
    "mostsend.config(validate='key',validatecommand=(reg,'%P'))\n",
    "tk.Label(frm, text='封信(最大上限:500封)').grid(row=3,column=3)\n",
    "\n",
    "tk.Label(frm, text='主旨:').grid(row=4,column=0)\n",
    "subject = tk.Entry(frm, width='60')\n",
    "subject.grid(row=4, column=1)\n",
    "tk.Label(frm, text='(純文字)').grid(row=4,column=3)\n",
    "\n",
    "\n",
    "tk.Label(frm, text='內文:').grid(row=5,column=0)\n",
    "scrollbartextExample_y= tk.Scrollbar(frm,orient=VERTICAL)\n",
    "scrollbartextExample_x= tk.Scrollbar(frm,orient=HORIZONTAL)\n",
    "textExample=tk.Text(frm, height=20,width=60,yscrollcommand=scrollbartextExample_y.set,xscrollcommand=scrollbartextExample_x.set,wrap=\"none\")\n",
    "textExample.grid(row=5, column=1)\n",
    "scrollbartextExample_y.config(command=textExample.yview)\n",
    "scrollbartextExample_x.config(command=textExample.xview)\n",
    "scrollbartextExample_y.grid(row=5,column=2,sticky='ns')\n",
    "scrollbartextExample_x.grid(row=6,column=1,sticky='ew')\n",
    "tk.Label(frm, text='(可接受HTML)').grid(row=5,column=3)\n",
    "\n",
    "\n",
    "\n",
    "tk.Label(frm, text='夾帶附件:').grid(row=7,column=0)\n",
    "scrollbarappendix = tk.Scrollbar(frm,orient=VERTICAL)\n",
    "appendix=tk.Text(frm, height=5,width=60,yscrollcommand=scrollbarappendix.set)\n",
    "appendix.grid(row=7,column=1)\n",
    "scrollbarappendix.config(command=appendix.yview)\n",
    "scrollbarappendix.grid(row=7,column=2,sticky='ns')\n",
    "appendixbtn=tk.Button(frm,text='點此選擇附件',command=uploadappendix_file, background='#fc0')\n",
    "appendixbtn.grid(row=7, column=3)\n",
    "tk.Label(frm, text='總共不得超過25MB',fg='red').grid(row=7,column=3,sticky='s')\n",
    "\n",
    "\n",
    "\n",
    "#發送郵件\n",
    "sendbutton=tk.Button(frm, text='發送郵件',bg='pale green',command=confirm)\n",
    "sendbutton.grid(row=8,column=1)\n",
    "\n",
    "#寄送狀態條\n",
    "processbar = ttk.Progressbar(frm, mode='determinate',length=410)\n",
    "processbar.grid(column=1,row=9)\n",
    "val = tk.StringVar()\n",
    "val.set('0%')\n",
    "processbar_label = tk.Label(frm, textvariable=val)\n",
    "processbar_label.grid(column=1,row=10)\n",
    "\n",
    "\n",
    "#開啟紀錄檔\n",
    "logbtn = tk.Button(frm, text='开启纪录档资料夹',command=lambda: subprocess.Popen(f'explorer \"{Path(\"config/log\").absolute()}\"'),background='LightCyan')\n",
    "logbtn.grid(row=9,column=3)\n",
    "\n",
    "\n",
    "\n",
    "root.mainloop()"
   ]
  },
  {
   "cell_type": "code",
   "execution_count": null,
   "metadata": {},
   "outputs": [],
   "source": []
  },
  {
   "cell_type": "code",
   "execution_count": 17,
   "metadata": {},
   "outputs": [
    {
     "data": {
      "text/plain": [
       "['d', 'b', 'c']"
      ]
     },
     "execution_count": 17,
     "metadata": {},
     "output_type": "execute_result"
    }
   ],
   "source": [
    "l1=[]\n",
    "l2=['b','c','d','c','d']\n",
    "list(set(l2))\n"
   ]
  },
  {
   "cell_type": "code",
   "execution_count": 93,
   "metadata": {},
   "outputs": [
    {
     "name": "stdout",
     "output_type": "stream",
     "text": [
      "1\n"
     ]
    }
   ],
   "source": [
    "if \"2323232323\" in \"2323232323 'int' object has no attribute 'strip'\":\n",
    "    print(1)"
   ]
  },
  {
   "cell_type": "code",
   "execution_count": 116,
   "metadata": {},
   "outputs": [
    {
     "name": "stderr",
     "output_type": "stream",
     "text": [
      "2022-09-04 21:58:25   DEBUG [3923078577.py: 144 -         confirm()] confirm附件路徑:[]\n",
      "2022-09-04 21:58:25    INFO [3923078577.py: 146 -         confirm()] confirm結果彈窗:True，面板資訊:('C:/Users/user/Desktop/mail/test.xlsx', 'C:/Users/user/Desktop/mail/test2.xlsx', '2', 's', [])\n",
      "2022-09-04 21:58:25    INFO [3923078577.py: 161 -         confirm()] confirm附件大小總和:0\n",
      "2022-09-04 21:58:25    INFO [3923078577.py: 193 -         confirm()] 開始進行寄送...\n",
      "2022-09-04 21:58:27    INFO [3923078577.py:  90 -           login()] taiwinner.0246@gmail.com登入成功\n",
      "2022-09-04 21:58:27    INFO [3923078577.py: 211 -         confirm()] 獲取{'title': 's', 'pas': 'tjrmlnosadcfyiya', 'sep': 'taiwinner.0246@gmail.com ', 'html_text': 's\\n', 'fromm': 'taiwinner.0246@gmail.com'}\n",
      "2022-09-04 21:58:28 WARNING [3923078577.py: 119 -            send()] taiwinner.0246@gmail.com寄給taiwinner.0246@gmail.com 寄送失敗，回傳('taiwinner.0246@gmail.com', 'taiwinner.0246@gmail.com ', '寄送失敗!', \"(530, b'5.7.0 Must issue a STARTTLS command first. e19-20020aa79813000000b0052dce4edceesm5646706pfl.169 - gsmtp', 'taiwinner.0246@gmail.com')\")\n",
      "2022-09-04 21:58:28    INFO [3923078577.py: 211 -         confirm()] 獲取{'title': 's', 'pas': 'tjrmlnosadcfyiya', 'sep': 'gleam542@gmail.com', 'html_text': 's\\n', 'fromm': 'taiwinner.0246@gmail.com'}\n"
     ]
    },
    {
     "name": "stdout",
     "output_type": "stream",
     "text": [
      "Error message:  taiwinner.0246@gmail.com taiwinner.0246@gmail.com  (530, b'5.7.0 Must issue a STARTTLS command first. e19-20020aa79813000000b0052dce4edceesm5646706pfl.169 - gsmtp', 'taiwinner.0246@gmail.com')\n",
      "(530, b'5.7.0 Must issue a STARTTLS command first. e19-20020aa79813000000b0052dce4edceesm5646706pfl.169 - gsmtp', 'taiwinner.0246@gmail.com')\n"
     ]
    },
    {
     "name": "stderr",
     "output_type": "stream",
     "text": [
      "2022-09-04 21:58:28 WARNING [3923078577.py: 119 -            send()] taiwinner.0246@gmail.com寄給gleam542@gmail.com寄送失敗，回傳('taiwinner.0246@gmail.com', 'gleam542@gmail.com', '寄送失敗!', \"(530, b'5.7.0 Must issue a STARTTLS command first. 21-20020a621515000000b0053b2681b0e4sm5665061pfv.67 - gsmtp', 'taiwinner.0246@gmail.com')\")\n"
     ]
    },
    {
     "name": "stdout",
     "output_type": "stream",
     "text": [
      "Error message:  taiwinner.0246@gmail.com gleam542@gmail.com (530, b'5.7.0 Must issue a STARTTLS command first. 21-20020a621515000000b0053b2681b0e4sm5665061pfv.67 - gsmtp', 'taiwinner.0246@gmail.com')\n",
      "(530, b'5.7.0 Must issue a STARTTLS command first. 21-20020a621515000000b0053b2681b0e4sm5665061pfv.67 - gsmtp', 'taiwinner.0246@gmail.com')\n"
     ]
    },
    {
     "name": "stderr",
     "output_type": "stream",
     "text": [
      "2022-09-04 21:58:30    INFO [3923078577.py:  90 -           login()] gleam542@gmail.com登入成功\n",
      "2022-09-04 21:58:30    INFO [3923078577.py: 211 -         confirm()] 獲取{'title': 's', 'pas': 'cbfmnacqavgrdgbo', 'sep': 'taiwinnerr@gmail.com', 'html_text': 's\\n', 'fromm': 'gleam542@gmail.com'}\n",
      "2022-09-04 21:58:31 WARNING [3923078577.py: 119 -            send()] gleam542@gmail.com寄給taiwinnerr@gmail.com寄送失敗，回傳('gleam542@gmail.com', 'taiwinnerr@gmail.com', '寄送失敗!', \"(530, b'5.7.0 Must issue a STARTTLS command first. u16-20020a170902e81000b00174d9bbeda4sm5407310plg.197 - gsmtp', 'gleam542@gmail.com')\")\n",
      "2022-09-04 21:58:31    INFO [3923078577.py: 211 -         confirm()] 獲取{'title': 's', 'pas': 'cbfmnacqavgrdgbo', 'sep': 'kdgmlzkfdglkm@gmail.com', 'html_text': 's\\n', 'fromm': 'gleam542@gmail.com'}\n"
     ]
    },
    {
     "name": "stdout",
     "output_type": "stream",
     "text": [
      "Error message:  gleam542@gmail.com taiwinnerr@gmail.com (530, b'5.7.0 Must issue a STARTTLS command first. u16-20020a170902e81000b00174d9bbeda4sm5407310plg.197 - gsmtp', 'gleam542@gmail.com')\n",
      "(530, b'5.7.0 Must issue a STARTTLS command first. u16-20020a170902e81000b00174d9bbeda4sm5407310plg.197 - gsmtp', 'gleam542@gmail.com')\n"
     ]
    },
    {
     "name": "stderr",
     "output_type": "stream",
     "text": [
      "2022-09-04 21:58:31 WARNING [3923078577.py: 119 -            send()] gleam542@gmail.com寄給kdgmlzkfdglkm@gmail.com寄送失敗，回傳('gleam542@gmail.com', 'kdgmlzkfdglkm@gmail.com', '寄送失敗!', \"(530, b'5.7.0 Must issue a STARTTLS command first. z10-20020aa79e4a000000b0053b9e5d365bsm2228438pfq.216 - gsmtp', 'gleam542@gmail.com')\")\n"
     ]
    },
    {
     "name": "stdout",
     "output_type": "stream",
     "text": [
      "Error message:  gleam542@gmail.com kdgmlzkfdglkm@gmail.com (530, b'5.7.0 Must issue a STARTTLS command first. z10-20020aa79e4a000000b0053b9e5d365bsm2228438pfq.216 - gsmtp', 'gleam542@gmail.com')\n",
      "(530, b'5.7.0 Must issue a STARTTLS command first. z10-20020aa79e4a000000b0053b9e5d365bsm2228438pfq.216 - gsmtp', 'gleam542@gmail.com')\n"
     ]
    },
    {
     "name": "stderr",
     "output_type": "stream",
     "text": [
      "2022-09-04 21:58:33 WARNING [3923078577.py:  93 -           login()] taiwinnerr@gmail.com無法登入，回傳('taiwinnerr@gmail.com', '-', '寄送失敗!', \"(535, b'5.7.8 Username and Password not accepted. Learn more at\\\\n5.7.8  https://support.google.com/mail/?p=BadCredentials k13-20020a170902c40d00b001635b86a790sm5506704plk.44 - gsmtp')\")\n"
     ]
    },
    {
     "name": "stdout",
     "output_type": "stream",
     "text": [
      "<smtplib.SMTP object at 0x0000024282D98E50>\n"
     ]
    },
    {
     "name": "stderr",
     "output_type": "stream",
     "text": [
      "2022-09-04 21:58:35 WARNING [3923078577.py:  93 -           login()] taiwinnerr@gmail.com無法登入，回傳('taiwinnerr@gmail.com', '-', '寄送失敗!', \"(535, b'5.7.8 Username and Password not accepted. Learn more at\\\\n5.7.8  https://support.google.com/mail/?p=BadCredentials 76-20020a62174f000000b0052da33fe7d2sm5832493pfx.95 - gsmtp')\")\n"
     ]
    },
    {
     "name": "stdout",
     "output_type": "stream",
     "text": [
      "<smtplib.SMTP object at 0x0000024282D529D0>\n"
     ]
    },
    {
     "name": "stderr",
     "output_type": "stream",
     "text": [
      "2022-09-04 21:58:37    INFO [3923078577.py:  90 -           login()] gleam542@gmail.com登入成功\n",
      "2022-09-04 21:58:37    INFO [3923078577.py: 211 -         confirm()] 獲取{'title': 's', 'pas': 'cbfmnacqavgrdgbo', 'sep': 'dsffsdsa12112', 'html_text': 's\\n', 'fromm': 'gleam542@gmail.com'}\n",
      "2022-09-04 21:58:38 WARNING [3923078577.py: 119 -            send()] gleam542@gmail.com寄給dsffsdsa12112寄送失敗，回傳('gleam542@gmail.com', 'dsffsdsa12112', '寄送失敗!', \"(530, b'5.7.0 Must issue a STARTTLS command first. n15-20020a6546cf000000b0041cd5ddde6fsm4730708pgr.76 - gsmtp', 'gleam542@gmail.com')\")\n",
      "2022-09-04 21:58:38    INFO [3923078577.py: 211 -         confirm()] 獲取{'title': 's', 'pas': 'cbfmnacqavgrdgbo', 'sep': '5453453', 'html_text': 's\\n', 'fromm': 'gleam542@gmail.com'}\n"
     ]
    },
    {
     "name": "stdout",
     "output_type": "stream",
     "text": [
      "Error message:  gleam542@gmail.com dsffsdsa12112 (530, b'5.7.0 Must issue a STARTTLS command first. n15-20020a6546cf000000b0041cd5ddde6fsm4730708pgr.76 - gsmtp', 'gleam542@gmail.com')\n",
      "(530, b'5.7.0 Must issue a STARTTLS command first. n15-20020a6546cf000000b0041cd5ddde6fsm4730708pgr.76 - gsmtp', 'gleam542@gmail.com')\n"
     ]
    },
    {
     "name": "stderr",
     "output_type": "stream",
     "text": [
      "2022-09-04 21:58:39 WARNING [3923078577.py: 119 -            send()] gleam542@gmail.com寄給5453453寄送失敗，回傳('gleam542@gmail.com', '5453453', '寄送失敗!', \"(530, b'5.7.0 Must issue a STARTTLS command first. c187-20020a624ec4000000b0053627e0e860sm5648484pfb.27 - gsmtp', 'gleam542@gmail.com')\")\n"
     ]
    },
    {
     "name": "stdout",
     "output_type": "stream",
     "text": [
      "Error message:  gleam542@gmail.com 5453453 (530, b'5.7.0 Must issue a STARTTLS command first. c187-20020a624ec4000000b0053627e0e860sm5648484pfb.27 - gsmtp', 'gleam542@gmail.com')\n",
      "(530, b'5.7.0 Must issue a STARTTLS command first. c187-20020a624ec4000000b0053627e0e860sm5648484pfb.27 - gsmtp', 'gleam542@gmail.com')\n"
     ]
    },
    {
     "name": "stderr",
     "output_type": "stream",
     "text": [
      "2022-09-04 21:58:41 WARNING [3923078577.py:  93 -           login()] 123456無法登入，回傳('123456', '-', '寄送失敗!', \"(535, b'5.7.8 Username and Password not accepted. Learn more at\\\\n5.7.8  https://support.google.com/mail/?p=BadCredentials m9-20020a17090a4d8900b001f8c532b93dsm4945267pjh.15 - gsmtp')\")\n"
     ]
    },
    {
     "name": "stdout",
     "output_type": "stream",
     "text": [
      "<smtplib.SMTP object at 0x0000024282D52400>\n"
     ]
    },
    {
     "name": "stderr",
     "output_type": "stream",
     "text": [
      "2022-09-04 21:58:42 WARNING [3923078577.py:  93 -           login()] 123456無法登入，回傳('123456', '-', '寄送失敗!', \"(535, b'5.7.8 Username and Password not accepted. Learn more at\\\\n5.7.8  https://support.google.com/mail/?p=BadCredentials h10-20020a170902f70a00b00172fad607b3sm5358372plo.207 - gsmtp')\")\n"
     ]
    },
    {
     "name": "stdout",
     "output_type": "stream",
     "text": [
      "<smtplib.SMTP object at 0x0000024282D523D0>\n"
     ]
    },
    {
     "name": "stderr",
     "output_type": "stream",
     "text": [
      "2022-09-04 21:58:44 WARNING [3923078577.py:  93 -           login()] nan無法登入，回傳('nan', '-', '寄送失敗!', \"(535, b'5.7.8 Username and Password not accepted. Learn more at\\\\n5.7.8  https://support.google.com/mail/?p=BadCredentials u10-20020a17090341ca00b0016b81679c1fsm5381852ple.216 - gsmtp')\")\n"
     ]
    },
    {
     "name": "stdout",
     "output_type": "stream",
     "text": [
      "<smtplib.SMTP object at 0x0000024282D52280>\n"
     ]
    },
    {
     "name": "stderr",
     "output_type": "stream",
     "text": [
      "2022-09-04 21:58:45 WARNING [3923078577.py:  93 -           login()] nan無法登入，回傳('nan', '-', '寄送失敗!', \"(535, b'5.7.8 Username and Password not accepted. Learn more at\\\\n5.7.8  https://support.google.com/mail/?p=BadCredentials g10-20020aa796aa000000b005365aee486bsm5633280pfk.192 - gsmtp')\")\n"
     ]
    },
    {
     "name": "stdout",
     "output_type": "stream",
     "text": [
      "<smtplib.SMTP object at 0x0000024282D52EB0>\n"
     ]
    },
    {
     "name": "stderr",
     "output_type": "stream",
     "text": [
      "2022-09-04 21:58:46 WARNING [3923078577.py:  93 -           login()] nan無法登入，回傳('nan', '-', '寄送失敗!', \"(535, b'5.7.8 Username and Password not accepted. Learn more at\\\\n5.7.8  https://support.google.com/mail/?p=BadCredentials t128-20020a628186000000b0052d50e14f1dsm5670052pfd.78 - gsmtp')\")\n"
     ]
    },
    {
     "name": "stdout",
     "output_type": "stream",
     "text": [
      "<smtplib.SMTP object at 0x0000024282D52520>\n"
     ]
    },
    {
     "name": "stderr",
     "output_type": "stream",
     "text": [
      "2022-09-04 21:58:47 WARNING [3923078577.py:  93 -           login()] nan無法登入，回傳('nan', '-', '寄送失敗!', \"(535, b'5.7.8 Username and Password not accepted. Learn more at\\\\n5.7.8  https://support.google.com/mail/?p=BadCredentials b12-20020a170902650c00b0016f1319d2a7sm5440861plk.297 - gsmtp')\")\n",
      "2022-09-04 21:58:48   DEBUG [3923078577.py: 244 -         confirm()] 寄件人都已寄送指定收件人，無剩餘寄件人，剩餘收件人:['kdgmlzkfdgzfdddflkm@gmail.com', 'dsffsdsa12112df@gmial.com', 'uygygvuyy@yahoo.ccm', 'gleam542@gmail.com', 'gleam543@515ail.com', 'gleam544@gmail.com', 'gleam545@gmail.com', 'kdgmlzkfdgzfdddflkm@gmail.co123m', 'kdgmlzkfdgzfdddflkm@gmail.co124mm']\n"
     ]
    },
    {
     "name": "stdout",
     "output_type": "stream",
     "text": [
      "<smtplib.SMTP object at 0x0000024282DFB790>\n",
      "所有寄信人已寄送指定數量收信人完成!\n"
     ]
    }
   ],
   "source": [
    "#一次寄一個\n",
    "from dataclasses import dataclass\n",
    "from re import T\n",
    "from tabnanny import check\n",
    "import tkinter as tk\n",
    "from tkinter import font\n",
    "from tkinter import ttk\n",
    "from tkinter.ttk import Spinbox\n",
    "from turtle import fillcolor, filling, left, right, width\n",
    "from xml.etree.ElementTree import Comment\n",
    "import pandas as pd\n",
    "from tkinter import END, EW, HORIZONTAL, VERTICAL, filedialog,messagebox\n",
    "import openpyxl\n",
    "import smtplib\n",
    "from email.mime.multipart import MIMEMultipart\n",
    "from email.mime.text import MIMEText\n",
    "import time\n",
    "from email.mime.application import MIMEApplication\n",
    "from pathlib import Path\n",
    "import os\n",
    "import errorcode\n",
    "import logging\n",
    "import log\n",
    "import subprocess\n",
    "logger = logging.getLogger('robot')\n",
    "#上傳文件\n",
    "def upload_file(entry):\n",
    "    entry.delete(0, END)\n",
    "    selectFile = tk.filedialog.askopenfilename(filetypes =((\"xlsx files\",\"*.xlsx\"),(\"xls files\",\"*.xls\"))) \n",
    "    entry.insert(0, selectFile)\n",
    "def uploadappendix_file():\n",
    "    selectFiles = tk.filedialog.askopenfilenames()\n",
    "    for i, e in enumerate(selectFiles):          # 使用 enumerate 將串列變成帶有索引值的字典\n",
    "        appendix.insert('end', f'{e}')         # Text 從後方加入內容\n",
    "        if i != len(selectFiles):\n",
    "            appendix.insert('end', '\\n')\n",
    "   \n",
    "#偵測excel裡面是否包含前後空白，並做tuple處理\n",
    "def getupload_fileload_senderentry(upload_fileload_senderentry):\n",
    "    global sender\n",
    "    try:\n",
    "        df= pd.read_excel(upload_fileload_senderentry)\n",
    "    except:\n",
    "        return messagebox.showerror(title='寄件人檔案路徑有誤',message='請輸入正確寄件人檔案路徑')\n",
    "    if df.shape[1] != 2:\n",
    "        messagebox.showerror(title='寄件人檔案格式有誤',message='寄件人檔案格式有誤，請確認')\n",
    "        sendbutton['state']=tk.NORMAL\n",
    "        frm.update()\n",
    "        return \n",
    "    else: \n",
    "        df.columns=['郵箱','密碼']\n",
    "        sender=[]\n",
    "        for i in df.values:\n",
    "            l=[]\n",
    "            for j in i:\n",
    "                l.append(str(j).strip())\n",
    "            sender.append(tuple(l))\n",
    "        return sender\n",
    "    \n",
    "def getupload_fileload_recipient(recipientlist,most):\n",
    "    global recipient\n",
    "    try:\n",
    "        temp=[]\n",
    "        try:\n",
    "            for i in range(most):\n",
    "                temp.append(recipientlist.pop(0))\n",
    "        except:\n",
    "            recipient=','.join([str(i) for i in temp])\n",
    "            return recipient\n",
    "        recipient=','.join([str(i) for i in temp])\n",
    "        return recipient\n",
    "    except:\n",
    "        return messagebox.showerror(title='收件人檔案路徑有誤',message='請輸入正確收件人檔案路徑')\n",
    "def mostnumber(input):\n",
    "    if input.isdigit():\n",
    "        if 0<int(input)<501:\n",
    "            return True\n",
    "        else:\n",
    "            return False\n",
    "    elif input==\"\":\n",
    "        return True\n",
    "    else:\n",
    "        return False\n",
    "def login(fromm,pas):\n",
    "    with smtplib.SMTP(host=\"smtp.gmail.com\", port=\"587\") as smtp:\n",
    "        try:\n",
    "            smtp.ehlo()  # 驗證SMTP伺服器\n",
    "            smtp.starttls()  # 建立加密傳輸\n",
    "            smtp.login(fromm,pas)  # 登入寄件者gmail\n",
    "            logger.info(f'{fromm}登入成功')\n",
    "            return \n",
    "        except Exception as e:\n",
    "            logger.warning(f'{fromm}無法登入，回傳{fromm,\"-\",\"寄送失敗!\",str(e)}')\n",
    "            print(smtp)\n",
    "            return fromm,\"-\",\"寄送失敗!\",str(e)\n",
    "def send(title,fromm,pas,sep,html_text,**test):\n",
    "    with smtplib.SMTP(host=\"smtp.gmail.com\", port=\"587\") as smtp:  # 設定SMTP伺服器 \n",
    "        try:\n",
    "            # smtp.ehlo()  # 驗證SMTP伺服器\n",
    "            # smtp.starttls()  # 建立加密傳輸\n",
    "            # smtp.login(fromm,pas)  # 登入寄件者gmail \n",
    "            content = MIMEMultipart()  #建立MIMEMultipart物件\n",
    "            content[\"subject\"] = title  #郵件標題\n",
    "            content[\"from\"] = fromm  #寄件者\n",
    "            #content[\"to\"] = \"taiwinner.0246@gmail.com,gleam542@gmail.com\" #收件者\n",
    "            #content['cc']=\"taiwinner.0246@gmail.com,gleam542@gmail.com,gleam5422@gmail.com\" #副本\n",
    "            content['bcc']=sep #密件副本\n",
    "            content.attach(MIMEText(html_text,'html'))\n",
    "            for i in appendixload:\n",
    "                part_attach1 = MIMEApplication(open('%s'%i,'rb').read())   #開啟附件\n",
    "                part_attach1.add_header('Content-Disposition','attachment',filename='%s'%(i.split('/')[-1]))#為附件命名\n",
    "                content.attach(part_attach1)\n",
    "            smtp.send_message(content)  # 寄送郵件\n",
    "            print(\"Complete!%s\"%fromm,sep,time.ctime())\n",
    "            logger.debug(f'{fromm}寄給{sep}已寄送，回傳{fromm,sep,\"已寄送!\",\"-\"}')\n",
    "            return fromm,sep,\"已寄送!\",\"-\"\n",
    "        except Exception as e:\n",
    "            print(\"Error message: \",fromm,sep, str(e))\n",
    "            logger.warning(f'{fromm}寄給{sep}寄送失敗，回傳{fromm,sep,\"寄送失敗!\",str(e)}')\n",
    "            return fromm,sep,\"寄送失敗!\",str(e)\n",
    "def errorcodecheck(errorcode1):\n",
    "    return errorcode.CODE_DICT[errorcode1]\n",
    "\n",
    "def confirm():\n",
    "    global appendixload\n",
    "    global processbar\n",
    "    global val\n",
    "    if not 'xls' in upload_fileload_entry1.get():\n",
    "        logger.warning(f'confirm寄件人彈窗:{upload_fileload_entry1.get()}--->寄件人檔案路徑有誤')\n",
    "        return messagebox.showwarning(title='寄件人檔案路徑有誤',message='請輸入正確寄件人檔案路徑')\n",
    "    elif not 'xls' in upload_fileload_entry2.get():\n",
    "        logger.warning(f'confirm收件人彈窗:{upload_fileload_entry2.get()}--->收件人檔案路徑有誤')\n",
    "        return messagebox.showwarning(title='收件人檔案路徑有誤',message='請輸入正確收件人檔案路徑')\n",
    "    elif subject.get()=='':\n",
    "        logger.warning(f'confirm主旨彈窗:{subject.get()}--->主旨為空')\n",
    "        return messagebox.showwarning(title='主旨',message='請輸入主旨')\n",
    "    elif textExample.get(1.0,'end')=='\\n':\n",
    "        logger.warning(f\"confirm內文彈窗:{textExample.get(1.0,'end')}--->內文為空\")\n",
    "        return messagebox.showwarning(title='內文',message='請輸入內文')\n",
    "    #判斷完寄、收、主、內後判斷附件\n",
    "    else:\n",
    "        appendixload=appendix.get(1.0,'end').split('\\n')[:-2]\n",
    "        appendixload=[i.strip() for i in list(set(appendixload)) if i.strip()!='']\n",
    "        logger.debug(f\"confirm附件路徑:{appendixload}\")\n",
    "    result = messagebox.askyesno(title='確認一下',message=\"---請確認下列資訊是否正確---\\n寄件者檔案路徑:%s\\n收件者檔案路徑:%s\\n收件人上限:%s\\n主旨:%s\\n夾帶附件路徑:%s\"%(upload_fileload_entry1.get(),upload_fileload_entry2.get(),mostsend.get(),subject.get(),appendixload))\n",
    "    logger.info(f\"confirm結果彈窗:{result}，面板資訊:{upload_fileload_entry1.get(),upload_fileload_entry2.get(),mostsend.get(),subject.get(),appendixload}\")\n",
    "    if result :#確認彈窗點擊後\n",
    "        sendbutton['state']=tk.DISABLED#禁止傳送可以用\n",
    "        frm.update()\n",
    "        if appendix!=[]:#如果附件不為空\n",
    "            appendixallsize=0\n",
    "            for i in appendixload:\n",
    "                if not os.path.isfile(i):\n",
    "                    sendbutton['state']=tk.NORMAL\n",
    "                    logger.warning(f\"confirm附件:{appendixload}--->附件檔案路徑有誤，停止寄送\")\n",
    "                    return messagebox.showwarning(title='附件檔案路徑有誤',message='附件路徑%s有誤，請確認附件路徑'%i)\n",
    "                else:\n",
    "                    file_size =Path(r'%s'%i).stat().st_size\n",
    "                    logger.info(f\"confirm附件大小:{i,file_size}\")\n",
    "                    appendixallsize+=file_size\n",
    "            logger.info(f\"confirm附件大小總和:{appendixallsize}\")\n",
    "            if appendixallsize>26214400:\n",
    "                sendbutton['state']=tk.NORMAL\n",
    "                logger.warning(f\"confirm附件大小彈窗:總檔案大小超過25MB\")\n",
    "                return messagebox.showerror(title='總檔案大小太大',message='總檔案大小超過25MB')\n",
    "        #測試收件者檔案路徑對不對\n",
    "        try:\n",
    "            recipientopen=pd.read_excel(upload_fileload_entry2.get())\n",
    "        except:\n",
    "            sendbutton['state']=tk.NORMAL\n",
    "            logger.warning(f\"confirmresult附件大小後收信人彈窗:{upload_fileload_entry2.get()}--->請輸入正確收件人檔案路徑\")\n",
    "            return messagebox.showerror(title='收件人檔案路徑有誤',message='請輸入正確收件人檔案路徑')\n",
    "        #判斷收信人格式\n",
    "        if recipientopen.shape[1] !=1:\n",
    "            messagebox.showerror(title='收件人格式有誤',message='收件人檔案格式有誤，請確認')\n",
    "            sendbutton['state']=tk.NORMAL\n",
    "            frm.update()\n",
    "        else:\n",
    "        #將收件者檔案的COLUMN重命名\n",
    "            recipientopen.columns=['郵箱']\n",
    "            recipientlist=[i for i in recipientopen['郵箱']]\n",
    "        \n",
    "        statelist=[]#設一statelist狀態list之後做成excel用\n",
    "        \n",
    "        \n",
    "\n",
    "        #判斷寄信人檔案路徑對不對\n",
    "        if not os.path.isfile(upload_fileload_entry1.get()):\n",
    "            sendbutton['state']=tk.NORMAL\n",
    "            logger.warning(f'confirmresult附件大小後收信人彈窗:{upload_fileload_entry1.get()}--->寄件人路徑:{upload_fileload_entry1.get()}有誤，請確認寄件人路徑')\n",
    "            return messagebox.showerror(title='寄件人檔案路徑有誤',message='寄件人路徑:%s有誤，請確認寄件人路徑'%upload_fileload_entry1.get())\n",
    "        #執行寄件人寄送\n",
    "        logger.info('開始進行寄送...')\n",
    "        processbar_count=0\n",
    "        if getupload_fileload_senderentry(r'%s'%upload_fileload_entry1.get())==None:\n",
    "            return logger.warning('')\n",
    "        for i in getupload_fileload_senderentry(r'%s'%upload_fileload_entry1.get()):\n",
    "            if not login(i[0],i[1]):\n",
    "                for j in range(int(mostsend.get())):#讀取機器人上的最大收件者數\n",
    "                    if len(recipientlist)!=0:#判斷收件人LIST是否為0，因會逐一取出越來越短\n",
    "                        recipientlist_once=str(recipientlist.pop(0))\n",
    "                    else:\n",
    "                        statelist.append((i[0],'收件人不足','寄送失敗!','收件人不足'))\n",
    "                        print('全部收信人已寄送完成!已無收信人!')\n",
    "                        continue\n",
    "                    dist={'title':str(subject.get()),\n",
    "                    'pas':i[1],\n",
    "                    'sep':recipientlist_once,\n",
    "                    'html_text':textExample.get(1.0,'end'),\n",
    "                    'fromm':i[0]}\n",
    "                    logger.info(f'獲取{dist}')\n",
    "                    sendliist=list(send(**dist))\n",
    "                    try:\n",
    "                        if sendliist[3]!='-':\n",
    "                            print(sendliist[3])\n",
    "                            print(errorcode.CODE_DICT[sendliist[3][1:13]])\n",
    "                            sendliist[3]=errorcode.CODE_DICT[sendliist[3][1:13]]['msg']\n",
    "                            statelist.append(sendliist)\n",
    "                        else:\n",
    "                            statelist.append(sendliist)\n",
    "                    except:\n",
    "                        statelist.append(sendliist)\n",
    "                if processbar_count< processbar['maximum']:\n",
    "                    processbar_count = processbar_count + 100/len(sender)\n",
    "                    processbar['value'] = processbar_count\n",
    "                    val.set(f'寄送中...{int(processbar_count)}%') \n",
    "                    frm.update()\n",
    "                    time.sleep(0.01)\n",
    "            else:\n",
    "                loginfalselist=list(login(i[0],i[1]))\n",
    "                loginfalselist[3]=errorcode.CODE_DICT[loginfalselist[3][1:13]]['msg']\n",
    "                statelist.append(loginfalselist)\n",
    "                processbar_count = processbar_count + 100/len(sender)\n",
    "                processbar['value'] = processbar_count\n",
    "                val.set(f'寄送中...{int(processbar_count)}%') \n",
    "                frm.update()\n",
    "                time.sleep(0.01)\n",
    "        if int(processbar_count)== processbar['maximum']:\n",
    "            val.set(f'所有寄信人已寄送指定數量收信人完成!{int(processbar_count)}%')\n",
    "            frm.update()\n",
    "            sendbutton['state']=tk.NORMAL\n",
    "        print('所有寄信人已寄送指定數量收信人完成!')\n",
    "        if len(recipientlist)!=0:\n",
    "            logger.debug(f\"寄件人都已寄送指定收件人，無剩餘寄件人，剩餘收件人:{recipientlist}\")\n",
    "            for i in recipientlist:\n",
    "                statelist.append(('寄件人不足',i,'寄送失敗!','寄件人不足'))\n",
    "        statedf=pd.DataFrame(statelist,columns=['寄件人','收件人','寄送狀態','錯誤原因']).set_index('寄件人')\n",
    "        localtime = time.localtime()\n",
    "        result = time.strftime(\"%Y-%m-%d %p%I.%M.%S \", localtime)\n",
    "        statedf.to_excel('寄送狀態表%s.xlsx'%result)\n",
    "\n",
    "root = tk.Tk()\n",
    "root.title('批量發送郵件機器人')\n",
    "frm = tk.Frame(root)\n",
    "frm.grid(padx='20', pady='50')\n",
    "\n",
    "\n",
    "\n",
    "tk.Label(frm, text='郵件伺服器:').grid(row=0,column=0)\n",
    "tk.Label(frm, text='gmail').grid(row=0,column=1)\n",
    "\n",
    "\n",
    "tk.Label(frm, text='寄件人檔案:').grid(row=1,column=0)\n",
    "upload_fileload_entry1 = tk.Entry(frm, width='60')\n",
    "upload_fileload_entry1.grid(row=1, column=1)\n",
    "uploadbtn = tk.Button(frm, text='點此選擇寄件者EXCEL檔', command=lambda:upload_file(upload_fileload_entry1), background='#7fffd4').grid(row=1, column=3)\n",
    "\n",
    "tk.Label(frm, text='收件人檔案:').grid(row=2,column=0)\n",
    "upload_fileload_entry2 = tk.Entry(frm, width='60')\n",
    "upload_fileload_entry2.grid(row=2, column=1)\n",
    "uploadbtn = tk.Button(frm, text='點此選擇收件者EXCEL檔', command=lambda:upload_file(upload_fileload_entry2), background='bisque').grid(row=2, column=3)\n",
    "\n",
    "tk.Label(frm, text='每一個寄件者寄:').grid(row=3,column=0)\n",
    "mostsend=tk.Spinbox(frm,width=59,from_=1,to_=500,increment=2)\n",
    "mostsend.grid(row=3,column=1)\n",
    "reg=frm.register(mostnumber)\n",
    "mostsend.config(validate='key',validatecommand=(reg,'%P'))\n",
    "tk.Label(frm, text='封信(最大上限:500封)').grid(row=3,column=3)\n",
    "\n",
    "tk.Label(frm, text='主旨:').grid(row=4,column=0)\n",
    "subject = tk.Entry(frm, width='60')\n",
    "subject.grid(row=4, column=1)\n",
    "tk.Label(frm, text='(純文字)').grid(row=4,column=3)\n",
    "\n",
    "\n",
    "tk.Label(frm, text='內文:').grid(row=5,column=0)\n",
    "scrollbartextExample_y= tk.Scrollbar(frm,orient=VERTICAL)\n",
    "scrollbartextExample_x= tk.Scrollbar(frm,orient=HORIZONTAL)\n",
    "textExample=tk.Text(frm, height=20,width=60,yscrollcommand=scrollbartextExample_y.set,xscrollcommand=scrollbartextExample_x.set,wrap=\"none\")\n",
    "textExample.grid(row=5, column=1)\n",
    "scrollbartextExample_y.config(command=textExample.yview)\n",
    "scrollbartextExample_x.config(command=textExample.xview)\n",
    "scrollbartextExample_y.grid(row=5,column=2,sticky='ns')\n",
    "scrollbartextExample_x.grid(row=6,column=1,sticky='ew')\n",
    "tk.Label(frm, text='(可接受HTML)').grid(row=5,column=3)\n",
    "\n",
    "\n",
    "\n",
    "\n",
    "tk.Label(frm, text='夾帶附件:').grid(row=7,column=0)\n",
    "scrollbarappendix = tk.Scrollbar(frm,orient=VERTICAL)\n",
    "appendix=tk.Text(frm, height=5,width=60,yscrollcommand=scrollbarappendix.set)\n",
    "appendix.grid(row=7,column=1)\n",
    "scrollbarappendix.config(command=appendix.yview)\n",
    "scrollbarappendix.grid(row=7,column=2,sticky='ns')\n",
    "appendixbtn=tk.Button(frm,text='點此選擇附件',command=uploadappendix_file, background='#fc0')\n",
    "appendixbtn.grid(row=7, column=3)\n",
    "tk.Label(frm, text='總共不得超過25MB',fg='red').grid(row=7,column=3,sticky='s')\n",
    "\n",
    "\n",
    "\n",
    "#發送郵件\n",
    "sendbutton=tk.Button(frm, text='發送郵件',bg='pale green',command=confirm)\n",
    "sendbutton.grid(row=8,column=1)\n",
    "\n",
    "\n",
    "\n",
    "#寄送狀態條\n",
    "processbar = ttk.Progressbar(frm, mode='determinate',length=410)\n",
    "processbar.grid(column=1,row=9)\n",
    "val = tk.StringVar()\n",
    "val.set('0%')\n",
    "processbar_label = tk.Label(frm, textvariable=val)\n",
    "processbar_label.grid(column=1,row=10)\n",
    "\n",
    "\n",
    "#開啟紀錄檔\n",
    "logbtn = tk.Button(frm, text='开启纪录档资料夹',command=lambda: subprocess.Popen(f'explorer \"{Path(\"config/log\").absolute()}\"'),background='LightCyan')\n",
    "logbtn.grid(row=9,column=3)\n",
    "\n",
    "#btn2 = tk.Button(frm, text='處理文件', command=getupload_fileload)\n",
    "#btn2.grid(row=1, column=2, ipadx='3', ipady='3', padx='10', pady='20')\n",
    "\n",
    "\n",
    "\n",
    "# def getTextInput():\n",
    "#     result=textExample.get(\"1.0\",\"end\")\n",
    "#     print(result)\n",
    "\n",
    "# textExample=tk.Text(root, height=10)\n",
    "# textExample.grid(row=1, column=0, ipadx='3', ipady='3', padx='10', pady='20')\n",
    "# btnRead=tk.Button(root, height=1, width=10, text=\"Read\", \n",
    "#                     command=getTextInput)\n",
    "\n",
    "# btnRead.grid(row=2, column=0, ipadx='3', ipady='3', padx='10', pady='20')\n",
    "root.mainloop()"
   ]
  },
  {
   "cell_type": "code",
   "execution_count": 107,
   "metadata": {},
   "outputs": [
    {
     "name": "stdout",
     "output_type": "stream",
     "text": [
      "1\n"
     ]
    }
   ],
   "source": [
    "import re\n",
    "x='gleam542@gmail.com'\n",
    "r=re.compile('@')\n",
    "if (re.search(r,x)):\n",
    "    print(1)"
   ]
  },
  {
   "cell_type": "code",
   "execution_count": 25,
   "metadata": {},
   "outputs": [
    {
     "name": "stderr",
     "output_type": "stream",
     "text": [
      "2022-09-04 00:26:42 WARNING [1603635626.py:  93 -           login()] taiwinner.0246@gmail.com無法登入，回傳('taiwinner.0246@gmail.com', '-', '寄送失敗!', \"(535, b'5.7.8 Username and Password not accepted. Learn more at\\\\n5.7.8  https://support.google.com/mail/?p=BadCredentials t12-20020a17090a950c00b001fb47692333sm1220901pjo.23 - gsmtp')\")\n"
     ]
    },
    {
     "name": "stdout",
     "output_type": "stream",
     "text": [
      "<smtplib.SMTP object at 0x00000242EAF9D5E0>\n"
     ]
    },
    {
     "data": {
      "text/plain": [
       "('taiwinner.0246@gmail.com',\n",
       " '-',\n",
       " '寄送失敗!',\n",
       " \"(535, b'5.7.8 Username and Password not accepted. Learn more at\\\\n5.7.8  https://support.google.com/mail/?p=BadCredentials t12-20020a17090a950c00b001fb47692333sm1220901pjo.23 - gsmtp')\")"
      ]
     },
     "execution_count": 25,
     "metadata": {},
     "output_type": "execute_result"
    }
   ],
   "source": [
    "login('taiwinner.0246@gmail.com', 'tjrmdlnosadcfyiya')"
   ]
  },
  {
   "cell_type": "code",
   "execution_count": 20,
   "metadata": {},
   "outputs": [],
   "source": [
    "with smtplib.SMTP(host=\"smtp.gmail.com\", port=\"587\") as smtp:  # 設定SMTP伺服器 \n",
    "    smtp.ehlo()  # 驗證SMTP伺服器\n",
    "    smtp.starttls()  # 建立加密傳輸\n",
    "    smtp.login('taiwinner.0246@gmail.com', 'tjrmlnosadcfyiya') "
   ]
  },
  {
   "cell_type": "code",
   "execution_count": 100,
   "metadata": {},
   "outputs": [],
   "source": [
    "import tkinter as tk\n",
    "from tkinter import ttk\n",
    "import time\n",
    "\n",
    "root = tk.Tk()\n",
    "root.title('oxxo.studio')\n",
    "root.geometry('200x200')\n",
    "\n",
    "bar = ttk.Progressbar(root, mode='determinate')\n",
    "bar.pack(pady=10)\n",
    "\n",
    "def show():\n",
    "    button['state'] = 'disabled'    # 進度條開始時，不能點擊按鈕\n",
    "    button2['state'] = 'disabled'   # 進度條開始時，不能點擊按鈕\n",
    "    for i in range(101):\n",
    "        bar['value'] = i            # 每次迴圈執行時改變進度條進度\n",
    "        val.set(f'{i}%')            # 每次迴圈執行時改變顯示文字\n",
    "        root.update()               # 更新視窗內容 ( 很重要！ )\n",
    "        time.sleep(0.01)\n",
    "    button2['state'] = 'normal'     # 進度條結束始時，可以點擊「重來」按鈕\n",
    "\n",
    "def clear():\n",
    "      button['state'] = 'normal'    # 點擊重來按鈕時，「開始」按鈕可以點擊\n",
    "      button2['state'] = 'disabled' # 點擊重來按鈕時，不能點擊「重來」按鈕\n",
    "      bar['value'] = 0              # 進度條設為 0\n",
    "      val.set('0%')                 # 顯示文字為 0%\n",
    "\n",
    "val = tk.StringVar()\n",
    "val.set('0%')\n",
    "\n",
    "label = tk.Label(root, textvariable=val)\n",
    "label.pack()\n",
    "\n",
    "button = tk.Button(root, text='開始', command=show)\n",
    "button.pack()\n",
    "button2 = tk.Button(root, text='重來', command=clear, state='disabled')\n",
    "button2.pack()\n",
    "\n",
    "root.mainloop()"
   ]
  },
  {
   "cell_type": "code",
   "execution_count": 51,
   "metadata": {},
   "outputs": [
    {
     "name": "stdout",
     "output_type": "stream",
     "text": [
      "22872\n"
     ]
    },
    {
     "ename": "TypeError",
     "evalue": "'type' object is not iterable",
     "output_type": "error",
     "traceback": [
      "\u001b[1;31m---------------------------------------------------------------------------\u001b[0m",
      "\u001b[1;31mTypeError\u001b[0m                                 Traceback (most recent call last)",
      "\u001b[1;32mc:\\Users\\user\\Desktop\\mail\\test2.ipynb Cell 8\u001b[0m in \u001b[0;36m<cell line: 6>\u001b[1;34m()\u001b[0m\n\u001b[0;32m      <a href='vscode-notebook-cell:/c%3A/Users/user/Desktop/mail/test2.ipynb#X10sZmlsZQ%3D%3D?line=3'>4</a>\u001b[0m \u001b[39mprint\u001b[39m(file_size)\n\u001b[0;32m      <a href='vscode-notebook-cell:/c%3A/Users/user/Desktop/mail/test2.ipynb#X10sZmlsZQ%3D%3D?line=4'>5</a>\u001b[0m s\u001b[39m=\u001b[39m\u001b[39m0\u001b[39m\n\u001b[1;32m----> <a href='vscode-notebook-cell:/c%3A/Users/user/Desktop/mail/test2.ipynb#X10sZmlsZQ%3D%3D?line=5'>6</a>\u001b[0m \u001b[39mfor\u001b[39;00m i \u001b[39min\u001b[39;00m \u001b[39mlist\u001b[39m:\n\u001b[0;32m      <a href='vscode-notebook-cell:/c%3A/Users/user/Desktop/mail/test2.ipynb#X10sZmlsZQ%3D%3D?line=6'>7</a>\u001b[0m     s\u001b[39m+\u001b[39m\u001b[39m=\u001b[39mPath(\u001b[39mr\u001b[39m\u001b[39m'\u001b[39m\u001b[39mi\u001b[39m\u001b[39m'\u001b[39m)\u001b[39m.\u001b[39mstat()\u001b[39m.\u001b[39mst_size\n",
      "\u001b[1;31mTypeError\u001b[0m: 'type' object is not iterable"
     ]
    }
   ],
   "source": [
    "from pathlib import Path\n",
    "Path(r'mail.ipynb').stat()\n",
    "file_size =Path(r'mail.ipynb').stat().st_size\n",
    "print(file_size)\n",
    "s=0\n",
    "for i in list:\n",
    "    s+=Path(r'i').stat().st_size"
   ]
  },
  {
   "cell_type": "code",
   "execution_count": 18,
   "metadata": {},
   "outputs": [
    {
     "name": "stdout",
     "output_type": "stream",
     "text": [
      "1\n"
     ]
    }
   ],
   "source": [
    "a=[1,2,2]\n",
    "if a !=[]:\n",
    "    print(1)"
   ]
  },
  {
   "cell_type": "code",
   "execution_count": 28,
   "metadata": {},
   "outputs": [
    {
     "ename": "NameError",
     "evalue": "name 'dd' is not defined",
     "output_type": "error",
     "traceback": [
      "\u001b[1;31m---------------------------------------------------------------------------\u001b[0m",
      "\u001b[1;31mNameError\u001b[0m                                 Traceback (most recent call last)",
      "\u001b[1;32mc:\\Users\\user\\Desktop\\mail\\test2.ipynb Cell 8\u001b[0m in \u001b[0;36m<cell line: 14>\u001b[1;34m()\u001b[0m\n\u001b[0;32m      <a href='vscode-notebook-cell:/c%3A/Users/user/Desktop/mail/test2.ipynb#X10sZmlsZQ%3D%3D?line=0'>1</a>\u001b[0m dist\u001b[39m=\u001b[39m{\u001b[39m'\u001b[39m\u001b[39mtitle\u001b[39m\u001b[39m'\u001b[39m:\u001b[39m\"\u001b[39m\u001b[39mdd\u001b[39m\u001b[39m\"\u001b[39m,\n\u001b[0;32m      <a href='vscode-notebook-cell:/c%3A/Users/user/Desktop/mail/test2.ipynb#X10sZmlsZQ%3D%3D?line=1'>2</a>\u001b[0m \u001b[39m'\u001b[39m\u001b[39mpas\u001b[39m\u001b[39m'\u001b[39m:\u001b[39m\"\u001b[39m\u001b[39mcbfmnacqavgrdgbo\u001b[39m\u001b[39m\"\u001b[39m,\n\u001b[0;32m      <a href='vscode-notebook-cell:/c%3A/Users/user/Desktop/mail/test2.ipynb#X10sZmlsZQ%3D%3D?line=2'>3</a>\u001b[0m \u001b[39m'\u001b[39m\u001b[39msep\u001b[39m\u001b[39m'\u001b[39m:\u001b[39m\"\u001b[39m\u001b[39mtaiwinner.0246@gmail.com\u001b[39m\u001b[39m\"\u001b[39m,\n\u001b[1;32m   (...)\u001b[0m\n\u001b[0;32m      <a href='vscode-notebook-cell:/c%3A/Users/user/Desktop/mail/test2.ipynb#X10sZmlsZQ%3D%3D?line=5'>6</a>\u001b[0m \u001b[39m'\u001b[39m\u001b[39mappendix\u001b[39m\u001b[39m'\u001b[39m:\u001b[39mr\u001b[39m\u001b[39m\"\u001b[39m\u001b[39mC:\u001b[39m\u001b[39m\\\u001b[39m\u001b[39mUsers\u001b[39m\u001b[39m\\\u001b[39m\u001b[39muser\u001b[39m\u001b[39m\\\u001b[39m\u001b[39mDesktop\u001b[39m\u001b[39m\\\u001b[39m\u001b[39mmail\u001b[39m\u001b[39m\\\u001b[39m\u001b[39m測試附件.txt\u001b[39m\u001b[39m\"\u001b[39m,\n\u001b[0;32m      <a href='vscode-notebook-cell:/c%3A/Users/user/Desktop/mail/test2.ipynb#X10sZmlsZQ%3D%3D?line=6'>7</a>\u001b[0m \u001b[39m\"\u001b[39m\u001b[39m1\u001b[39m\u001b[39m\"\u001b[39m:\u001b[39m\"\u001b[39m\u001b[39m2\u001b[39m\u001b[39m\"\u001b[39m}\n\u001b[0;32m      <a href='vscode-notebook-cell:/c%3A/Users/user/Desktop/mail/test2.ipynb#X10sZmlsZQ%3D%3D?line=7'>8</a>\u001b[0m dist\u001b[39m=\u001b[39m{\n\u001b[0;32m      <a href='vscode-notebook-cell:/c%3A/Users/user/Desktop/mail/test2.ipynb#X10sZmlsZQ%3D%3D?line=8'>9</a>\u001b[0m \u001b[39m'\u001b[39m\u001b[39msep\u001b[39m\u001b[39m'\u001b[39m:\u001b[39m\"\u001b[39m\u001b[39mtaiwinner.0246@gmail.com\u001b[39m\u001b[39m\"\u001b[39m,\n\u001b[0;32m     <a href='vscode-notebook-cell:/c%3A/Users/user/Desktop/mail/test2.ipynb#X10sZmlsZQ%3D%3D?line=9'>10</a>\u001b[0m \u001b[39m'\u001b[39m\u001b[39mhtml_text\u001b[39m\u001b[39m'\u001b[39m:\u001b[39m\"\u001b[39m\u001b[39msfds\u001b[39m\u001b[39m\"\u001b[39m,\n\u001b[0;32m     <a href='vscode-notebook-cell:/c%3A/Users/user/Desktop/mail/test2.ipynb#X10sZmlsZQ%3D%3D?line=10'>11</a>\u001b[0m \u001b[39m'\u001b[39m\u001b[39mfromm\u001b[39m\u001b[39m'\u001b[39m:\u001b[39m\"\u001b[39m\u001b[39mgleam542@gmail.com\u001b[39m\u001b[39m\"\u001b[39m,\n\u001b[0;32m     <a href='vscode-notebook-cell:/c%3A/Users/user/Desktop/mail/test2.ipynb#X10sZmlsZQ%3D%3D?line=11'>12</a>\u001b[0m \u001b[39m'\u001b[39m\u001b[39mappendix\u001b[39m\u001b[39m'\u001b[39m:\u001b[39mr\u001b[39m\u001b[39m\"\u001b[39m\u001b[39mC:\u001b[39m\u001b[39m\\\u001b[39m\u001b[39mUsers\u001b[39m\u001b[39m\\\u001b[39m\u001b[39muser\u001b[39m\u001b[39m\\\u001b[39m\u001b[39mDesktop\u001b[39m\u001b[39m\\\u001b[39m\u001b[39mmail\u001b[39m\u001b[39m\\\u001b[39m\u001b[39m測試附件.txt\u001b[39m\u001b[39m\"\u001b[39m,\n\u001b[0;32m     <a href='vscode-notebook-cell:/c%3A/Users/user/Desktop/mail/test2.ipynb#X10sZmlsZQ%3D%3D?line=12'>13</a>\u001b[0m \u001b[39m\"\u001b[39m\u001b[39m1\u001b[39m\u001b[39m\"\u001b[39m:\u001b[39m\"\u001b[39m\u001b[39m2\u001b[39m\u001b[39m\"\u001b[39m}\n\u001b[1;32m---> <a href='vscode-notebook-cell:/c%3A/Users/user/Desktop/mail/test2.ipynb#X10sZmlsZQ%3D%3D?line=13'>14</a>\u001b[0m send(title\u001b[39m=\u001b[39mdd,pas\u001b[39m=\u001b[39mcbfmnacqavgrdgbo,\u001b[39m*\u001b[39m\u001b[39m*\u001b[39mdist)\n",
      "\u001b[1;31mNameError\u001b[0m: name 'dd' is not defined"
     ]
    }
   ],
   "source": [
    "dist={'title':\"dd\",\n",
    "'pas':\"cbfmnacqavgrdgbo\",\n",
    "'sep':\"taiwinner.0246@gmail.com\",\n",
    "'html_text':\"sfds\",\n",
    "'fromm':\"gleam542@gmail.com\",\n",
    "'appendix':r\"C:\\Users\\user\\Desktop\\mail\\測試附件.txt\"}\n",
    "\n",
    "send(**dist)"
   ]
  },
  {
   "cell_type": "code",
   "execution_count": 45,
   "metadata": {},
   "outputs": [
    {
     "name": "stdout",
     "output_type": "stream",
     "text": [
      "Complete!gleam542@gmail.com taiwinner.0246@gmail.com  Tue Aug 23 19:03:49 2022\n"
     ]
    },
    {
     "data": {
      "text/plain": [
       "['gleam542@gmail.com', 'taiwinner.0246@gmail.com ', 'Complete!']"
      ]
     },
     "execution_count": 45,
     "metadata": {},
     "output_type": "execute_result"
    }
   ],
   "source": [
    "html = \"\"\"\n",
    "            <html>\n",
    "            <head></head>\n",
    "            <body>\n",
    "                <p>Hi!<br>\n",
    "                How are you?<br>\n",
    "                Here is the <a href=\"http://www.python.org\">link</a> you wanted.\n",
    "                </p>\n",
    "            </body>\n",
    "            </html>\n",
    "            \"\"\"\n",
    "x=(send(title='123',fromm='gleam542@gmail.com',pas='cbfmnacqavgrdgbo',sep='taiwinner.0246@gmail.com ',html=html))\n",
    "xx=list((x))\n",
    "xx"
   ]
  },
  {
   "cell_type": "code",
   "execution_count": 79,
   "metadata": {},
   "outputs": [
    {
     "data": {
      "text/html": [
       "<div>\n",
       "<style scoped>\n",
       "    .dataframe tbody tr th:only-of-type {\n",
       "        vertical-align: middle;\n",
       "    }\n",
       "\n",
       "    .dataframe tbody tr th {\n",
       "        vertical-align: top;\n",
       "    }\n",
       "\n",
       "    .dataframe thead th {\n",
       "        text-align: right;\n",
       "    }\n",
       "</style>\n",
       "<table border=\"1\" class=\"dataframe\">\n",
       "  <thead>\n",
       "    <tr style=\"text-align: right;\">\n",
       "      <th></th>\n",
       "      <th>寄件人</th>\n",
       "      <th>fff</th>\n",
       "      <th>ddd</th>\n",
       "    </tr>\n",
       "  </thead>\n",
       "  <tbody>\n",
       "    <tr>\n",
       "      <th>0</th>\n",
       "      <td>1</td>\n",
       "      <td>2</td>\n",
       "      <td>2</td>\n",
       "    </tr>\n",
       "    <tr>\n",
       "      <th>1</th>\n",
       "      <td>ff</td>\n",
       "      <td>f</td>\n",
       "      <td>2</td>\n",
       "    </tr>\n",
       "  </tbody>\n",
       "</table>\n",
       "</div>"
      ],
      "text/plain": [
       "  寄件人 fff  ddd\n",
       "0   1   2    2\n",
       "1  ff   f    2"
      ]
     },
     "execution_count": 79,
     "metadata": {},
     "output_type": "execute_result"
    }
   ],
   "source": [
    "df=pd.DataFrame([(1,2,2),('ff','f',2)],columns=['寄件人','fff','ddd'])\n",
    "df"
   ]
  },
  {
   "cell_type": "code",
   "execution_count": 93,
   "metadata": {},
   "outputs": [
    {
     "data": {
      "text/plain": [
       "[0, '1', 2, 3, ('a', 'b', 'c')]"
      ]
     },
     "execution_count": 93,
     "metadata": {},
     "output_type": "execute_result"
    }
   ],
   "source": [
    "l=[0,\"1\",2,3]\n",
    "l.append(('a','b','c'))\n",
    "l"
   ]
  },
  {
   "cell_type": "code",
   "execution_count": 236,
   "metadata": {},
   "outputs": [],
   "source": [
    "import xlwt\n",
    "workbook = xlwt.Workbook()\n",
    "\n",
    "sheet = workbook.add_sheet(\"sheet1\")\n",
    "\n",
    "sheet.write(0, 1, \"test\")\n",
    "\n",
    "workbook.save(\"test.xls\")"
   ]
  },
  {
   "cell_type": "code",
   "execution_count": 148,
   "metadata": {},
   "outputs": [],
   "source": [
    "from os import access\n",
    "from openpyxl import load_workbook\n",
    "wb=load_workbook('test2.xlsx')\n",
    "wb['工作表1'][6][0].value=22222222222\n",
    "wb['工作表1'][6][0].value\n",
    "actsheet=wb.active\n",
    "actsheet.title='工作表1'\n",
    "wb.create_sheet('2222222')\n",
    "wb.save('testtest.xlsx')"
   ]
  },
  {
   "cell_type": "code",
   "execution_count": 99,
   "metadata": {},
   "outputs": [
    {
     "data": {
      "text/plain": [
       "[('taiwinner.0246@gmail.com', 'tjrmlnosadcfyiya'),\n",
       " ('gleam542@gmail.com', 'cbfmnacqavgrdgbo'),\n",
       " ('taiwinnerr@gmail.com', 'nnakvewolsfmnmpz')]"
      ]
     },
     "execution_count": 99,
     "metadata": {},
     "output_type": "execute_result"
    }
   ],
   "source": [
    "def getupload_fileload_recipient(upload_fileload_recipient,most):\n",
    "    global recipient\n",
    "    try:\n",
    "        df= pd.read_excel(upload_fileload_recipient)\n",
    "        df.columns=['郵箱']\n",
    "        temp=[]\n",
    "        dflist=[i for i in df['郵箱']]\n",
    "        try:\n",
    "            for i in range(most):\n",
    "                temp.append(dflist.pop(0))\n",
    "        except:\n",
    "            recipient=','.join([str(i) for i in temp])\n",
    "            print(recipient)\n",
    "            return recipient\n",
    "        recipient=','.join([str(i) for i in temp])\n",
    "        return recipient\n",
    "    except:\n",
    "        messagebox.showerror(title='收件人檔案路徑有誤',message='請輸入正確收件人檔案路徑')"
   ]
  },
  {
   "cell_type": "code",
   "execution_count": 3,
   "metadata": {},
   "outputs": [],
   "source": [
    "import xlwt\n",
    "wb = xlwt.Workbook()\n",
    "sheet = wb.add_sheet(\"寄送狀態表\")\n",
    "sheet.write(0, 0, '寄件人')\n",
    "sheet.write(0, 1, '收件人')\n",
    "sheet.write(0, 2, '狀態')\n",
    "wb.save('寄送狀態表.xlsx')"
   ]
  },
  {
   "cell_type": "code",
   "execution_count": 77,
   "metadata": {},
   "outputs": [
    {
     "data": {
      "text/plain": [
       "[('taiwinner.0246@gmail.com', 'tjrmlnosadcfyiya'),\n",
       " ('gleam542@gmail.com', 'cbfmnacqavgrdgbo'),\n",
       " ('taiwinnerr@gmail.com', 'nnakvewolsfmnmpz')]"
      ]
     },
     "execution_count": 77,
     "metadata": {},
     "output_type": "execute_result"
    }
   ],
   "source": [
    "df= pd.read_excel(\"C:/Users/user/Desktop/mail/test.xlsx\")\n",
    "df.columns=['郵箱','密碼']\n",
    "ll=[]\n",
    "for i in df.values:\n",
    "    l=[]\n",
    "    for j in i:\n",
    "        l.append(j.strip())\n",
    "    ll.append(tuple(l))\n",
    "ll"
   ]
  },
  {
   "cell_type": "code",
   "execution_count": 34,
   "metadata": {},
   "outputs": [
    {
     "ename": "KeyError",
     "evalue": "''",
     "output_type": "error",
     "traceback": [
      "\u001b[1;31m---------------------------------------------------------------------------\u001b[0m",
      "\u001b[1;31mKeyError\u001b[0m                                  Traceback (most recent call last)",
      "File \u001b[1;32mc:\\Users\\user\\AppData\\Local\\Programs\\Python\\Python38\\lib\\site-packages\\pandas\\core\\indexes\\base.py:3621\u001b[0m, in \u001b[0;36mIndex.get_loc\u001b[1;34m(self, key, method, tolerance)\u001b[0m\n\u001b[0;32m   3620\u001b[0m \u001b[39mtry\u001b[39;00m:\n\u001b[1;32m-> 3621\u001b[0m     \u001b[39mreturn\u001b[39;00m \u001b[39mself\u001b[39;49m\u001b[39m.\u001b[39;49m_engine\u001b[39m.\u001b[39;49mget_loc(casted_key)\n\u001b[0;32m   3622\u001b[0m \u001b[39mexcept\u001b[39;00m \u001b[39mKeyError\u001b[39;00m \u001b[39mas\u001b[39;00m err:\n",
      "File \u001b[1;32mc:\\Users\\user\\AppData\\Local\\Programs\\Python\\Python38\\lib\\site-packages\\pandas\\_libs\\index.pyx:136\u001b[0m, in \u001b[0;36mpandas._libs.index.IndexEngine.get_loc\u001b[1;34m()\u001b[0m\n",
      "File \u001b[1;32mc:\\Users\\user\\AppData\\Local\\Programs\\Python\\Python38\\lib\\site-packages\\pandas\\_libs\\index.pyx:163\u001b[0m, in \u001b[0;36mpandas._libs.index.IndexEngine.get_loc\u001b[1;34m()\u001b[0m\n",
      "File \u001b[1;32mpandas\\_libs\\hashtable_class_helper.pxi:5198\u001b[0m, in \u001b[0;36mpandas._libs.hashtable.PyObjectHashTable.get_item\u001b[1;34m()\u001b[0m\n",
      "File \u001b[1;32mpandas\\_libs\\hashtable_class_helper.pxi:5206\u001b[0m, in \u001b[0;36mpandas._libs.hashtable.PyObjectHashTable.get_item\u001b[1;34m()\u001b[0m\n",
      "\u001b[1;31mKeyError\u001b[0m: ''",
      "\nThe above exception was the direct cause of the following exception:\n",
      "\u001b[1;31mKeyError\u001b[0m                                  Traceback (most recent call last)",
      "\u001b[1;32mc:\\Users\\user\\Desktop\\mail\\test2.ipynb Cell 8\u001b[0m in \u001b[0;36m<cell line: 3>\u001b[1;34m()\u001b[0m\n\u001b[0;32m      <a href='vscode-notebook-cell:/c%3A/Users/user/Desktop/mail/test2.ipynb#X42sZmlsZQ%3D%3D?line=0'>1</a>\u001b[0m df\u001b[39m=\u001b[39m pd\u001b[39m.\u001b[39mread_excel(\u001b[39m\"\u001b[39m\u001b[39mC:/Users/user/Desktop/mail/test2.xlsx\u001b[39m\u001b[39m\"\u001b[39m)\n\u001b[0;32m      <a href='vscode-notebook-cell:/c%3A/Users/user/Desktop/mail/test2.ipynb#X42sZmlsZQ%3D%3D?line=1'>2</a>\u001b[0m df\u001b[39m.\u001b[39mcolumns\u001b[39m=\u001b[39m[\u001b[39m'\u001b[39m\u001b[39m郵箱\u001b[39m\u001b[39m'\u001b[39m]\n\u001b[1;32m----> <a href='vscode-notebook-cell:/c%3A/Users/user/Desktop/mail/test2.ipynb#X42sZmlsZQ%3D%3D?line=2'>3</a>\u001b[0m \u001b[39mfor\u001b[39;00m i \u001b[39min\u001b[39;00m df[\u001b[39m'\u001b[39;49m\u001b[39m'\u001b[39;49m]:\n\u001b[0;32m      <a href='vscode-notebook-cell:/c%3A/Users/user/Desktop/mail/test2.ipynb#X42sZmlsZQ%3D%3D?line=3'>4</a>\u001b[0m     l\u001b[39m=\u001b[39m[]\n\u001b[0;32m      <a href='vscode-notebook-cell:/c%3A/Users/user/Desktop/mail/test2.ipynb#X42sZmlsZQ%3D%3D?line=4'>5</a>\u001b[0m     \u001b[39mfor\u001b[39;00m j \u001b[39min\u001b[39;00m i:\n",
      "File \u001b[1;32mc:\\Users\\user\\AppData\\Local\\Programs\\Python\\Python38\\lib\\site-packages\\pandas\\core\\frame.py:3505\u001b[0m, in \u001b[0;36mDataFrame.__getitem__\u001b[1;34m(self, key)\u001b[0m\n\u001b[0;32m   3503\u001b[0m \u001b[39mif\u001b[39;00m \u001b[39mself\u001b[39m\u001b[39m.\u001b[39mcolumns\u001b[39m.\u001b[39mnlevels \u001b[39m>\u001b[39m \u001b[39m1\u001b[39m:\n\u001b[0;32m   3504\u001b[0m     \u001b[39mreturn\u001b[39;00m \u001b[39mself\u001b[39m\u001b[39m.\u001b[39m_getitem_multilevel(key)\n\u001b[1;32m-> 3505\u001b[0m indexer \u001b[39m=\u001b[39m \u001b[39mself\u001b[39;49m\u001b[39m.\u001b[39;49mcolumns\u001b[39m.\u001b[39;49mget_loc(key)\n\u001b[0;32m   3506\u001b[0m \u001b[39mif\u001b[39;00m is_integer(indexer):\n\u001b[0;32m   3507\u001b[0m     indexer \u001b[39m=\u001b[39m [indexer]\n",
      "File \u001b[1;32mc:\\Users\\user\\AppData\\Local\\Programs\\Python\\Python38\\lib\\site-packages\\pandas\\core\\indexes\\base.py:3623\u001b[0m, in \u001b[0;36mIndex.get_loc\u001b[1;34m(self, key, method, tolerance)\u001b[0m\n\u001b[0;32m   3621\u001b[0m     \u001b[39mreturn\u001b[39;00m \u001b[39mself\u001b[39m\u001b[39m.\u001b[39m_engine\u001b[39m.\u001b[39mget_loc(casted_key)\n\u001b[0;32m   3622\u001b[0m \u001b[39mexcept\u001b[39;00m \u001b[39mKeyError\u001b[39;00m \u001b[39mas\u001b[39;00m err:\n\u001b[1;32m-> 3623\u001b[0m     \u001b[39mraise\u001b[39;00m \u001b[39mKeyError\u001b[39;00m(key) \u001b[39mfrom\u001b[39;00m \u001b[39merr\u001b[39;00m\n\u001b[0;32m   3624\u001b[0m \u001b[39mexcept\u001b[39;00m \u001b[39mTypeError\u001b[39;00m:\n\u001b[0;32m   3625\u001b[0m     \u001b[39m# If we have a listlike key, _check_indexing_error will raise\u001b[39;00m\n\u001b[0;32m   3626\u001b[0m     \u001b[39m#  InvalidIndexError. Otherwise we fall through and re-raise\u001b[39;00m\n\u001b[0;32m   3627\u001b[0m     \u001b[39m#  the TypeError.\u001b[39;00m\n\u001b[0;32m   3628\u001b[0m     \u001b[39mself\u001b[39m\u001b[39m.\u001b[39m_check_indexing_error(key)\n",
      "\u001b[1;31mKeyError\u001b[0m: ''"
     ]
    }
   ],
   "source": [
    "df= pd.read_excel(\"C:/Users/user/Desktop/mail/test2.xlsx\")\n",
    "df.columns=['郵箱']\n",
    "for i in df['']:\n",
    "    l=[]\n",
    "    for j in i:\n",
    "        l.append(j.strip())\n",
    "    ll.append(tuple(l))\n",
    "ll"
   ]
  },
  {
   "cell_type": "code",
   "execution_count": 5,
   "metadata": {},
   "outputs": [],
   "source": [
    "from tkinter import Tk\n",
    "\n",
    "r = Tk()\n",
    "r.option_add('*Dialog.msg.font', '100')\n",
    "messagebox.showinfo(message='Hello')\n",
    "root.mainloop()"
   ]
  },
  {
   "cell_type": "code",
   "execution_count": 32,
   "metadata": {},
   "outputs": [
    {
     "ename": "TclError",
     "evalue": "bad option \"-font\": must be -default, -detail, -icon, -message, -parent, -title, or -type",
     "output_type": "error",
     "traceback": [
      "\u001b[1;31m---------------------------------------------------------------------------\u001b[0m",
      "\u001b[1;31mTclError\u001b[0m                                  Traceback (most recent call last)",
      "\u001b[1;32mc:\\Users\\user\\Desktop\\mail\\test2.ipynb Cell 9\u001b[0m in \u001b[0;36m<cell line: 6>\u001b[1;34m()\u001b[0m\n\u001b[0;32m      <a href='vscode-notebook-cell:/c%3A/Users/user/Desktop/mail/test2.ipynb#X35sZmlsZQ%3D%3D?line=3'>4</a>\u001b[0m root \u001b[39m=\u001b[39m Tk()\n\u001b[0;32m      <a href='vscode-notebook-cell:/c%3A/Users/user/Desktop/mail/test2.ipynb#X35sZmlsZQ%3D%3D?line=4'>5</a>\u001b[0m root\u001b[39m.\u001b[39mwithdraw()\n\u001b[1;32m----> <a href='vscode-notebook-cell:/c%3A/Users/user/Desktop/mail/test2.ipynb#X35sZmlsZQ%3D%3D?line=5'>6</a>\u001b[0m tkmsg\u001b[39m.\u001b[39;49mshowinfo(\n\u001b[0;32m      <a href='vscode-notebook-cell:/c%3A/Users/user/Desktop/mail/test2.ipynb#X35sZmlsZQ%3D%3D?line=6'>7</a>\u001b[0m     \u001b[39m\"\u001b[39;49m\u001b[39mInfo\u001b[39;49m\u001b[39m\"\u001b[39;49m,\n\u001b[0;32m      <a href='vscode-notebook-cell:/c%3A/Users/user/Desktop/mail/test2.ipynb#X35sZmlsZQ%3D%3D?line=7'>8</a>\u001b[0m     \u001b[39m\"\u001b[39;49m\u001b[39mSome monospaced text\u001b[39;49m\u001b[39m\"\u001b[39;49m,\n\u001b[0;32m      <a href='vscode-notebook-cell:/c%3A/Users/user/Desktop/mail/test2.ipynb#X35sZmlsZQ%3D%3D?line=8'>9</a>\u001b[0m     font\u001b[39m=\u001b[39;49m(\u001b[39m\"\u001b[39;49m\u001b[39mMonospace\u001b[39;49m\u001b[39m\"\u001b[39;49m, \u001b[39m15\u001b[39;49m)\n\u001b[0;32m     <a href='vscode-notebook-cell:/c%3A/Users/user/Desktop/mail/test2.ipynb#X35sZmlsZQ%3D%3D?line=9'>10</a>\u001b[0m )\n\u001b[0;32m     <a href='vscode-notebook-cell:/c%3A/Users/user/Desktop/mail/test2.ipynb#X35sZmlsZQ%3D%3D?line=10'>11</a>\u001b[0m root\u001b[39m.\u001b[39mmainloop()\n",
      "File \u001b[1;32mc:\\Users\\user\\AppData\\Local\\Programs\\Python\\Python38\\lib\\tkinter\\messagebox.py:84\u001b[0m, in \u001b[0;36mshowinfo\u001b[1;34m(title, message, **options)\u001b[0m\n\u001b[0;32m     82\u001b[0m \u001b[39mdef\u001b[39;00m \u001b[39mshowinfo\u001b[39m(title\u001b[39m=\u001b[39m\u001b[39mNone\u001b[39;00m, message\u001b[39m=\u001b[39m\u001b[39mNone\u001b[39;00m, \u001b[39m*\u001b[39m\u001b[39m*\u001b[39moptions):\n\u001b[0;32m     83\u001b[0m     \u001b[39m\"\u001b[39m\u001b[39mShow an info message\u001b[39m\u001b[39m\"\u001b[39m\n\u001b[1;32m---> 84\u001b[0m     \u001b[39mreturn\u001b[39;00m _show(title, message, INFO, OK, \u001b[39m*\u001b[39;49m\u001b[39m*\u001b[39;49moptions)\n",
      "File \u001b[1;32mc:\\Users\\user\\AppData\\Local\\Programs\\Python\\Python38\\lib\\tkinter\\messagebox.py:72\u001b[0m, in \u001b[0;36m_show\u001b[1;34m(title, message, _icon, _type, **options)\u001b[0m\n\u001b[0;32m     70\u001b[0m \u001b[39mif\u001b[39;00m title:   options[\u001b[39m\"\u001b[39m\u001b[39mtitle\u001b[39m\u001b[39m\"\u001b[39m] \u001b[39m=\u001b[39m title\n\u001b[0;32m     71\u001b[0m \u001b[39mif\u001b[39;00m message: options[\u001b[39m\"\u001b[39m\u001b[39mmessage\u001b[39m\u001b[39m\"\u001b[39m] \u001b[39m=\u001b[39m message\n\u001b[1;32m---> 72\u001b[0m res \u001b[39m=\u001b[39m Message(\u001b[39m*\u001b[39;49m\u001b[39m*\u001b[39;49moptions)\u001b[39m.\u001b[39;49mshow()\n\u001b[0;32m     73\u001b[0m \u001b[39m# In some Tcl installations, yes/no is converted into a boolean.\u001b[39;00m\n\u001b[0;32m     74\u001b[0m \u001b[39mif\u001b[39;00m \u001b[39misinstance\u001b[39m(res, \u001b[39mbool\u001b[39m):\n",
      "File \u001b[1;32mc:\\Users\\user\\AppData\\Local\\Programs\\Python\\Python38\\lib\\tkinter\\commondialog.py:44\u001b[0m, in \u001b[0;36mDialog.show\u001b[1;34m(self, **options)\u001b[0m\n\u001b[0;32m     40\u001b[0m w \u001b[39m=\u001b[39m Frame(\u001b[39mself\u001b[39m\u001b[39m.\u001b[39mmaster)\n\u001b[0;32m     42\u001b[0m \u001b[39mtry\u001b[39;00m:\n\u001b[1;32m---> 44\u001b[0m     s \u001b[39m=\u001b[39m w\u001b[39m.\u001b[39;49mtk\u001b[39m.\u001b[39;49mcall(\u001b[39mself\u001b[39;49m\u001b[39m.\u001b[39;49mcommand, \u001b[39m*\u001b[39;49mw\u001b[39m.\u001b[39;49m_options(\u001b[39mself\u001b[39;49m\u001b[39m.\u001b[39;49moptions))\n\u001b[0;32m     46\u001b[0m     s \u001b[39m=\u001b[39m \u001b[39mself\u001b[39m\u001b[39m.\u001b[39m_fixresult(w, s)\n\u001b[0;32m     48\u001b[0m \u001b[39mfinally\u001b[39;00m:\n",
      "\u001b[1;31mTclError\u001b[0m: bad option \"-font\": must be -default, -detail, -icon, -message, -parent, -title, or -type"
     ]
    }
   ],
   "source": [
    "from tkinter import Tk\n",
    "import tkinter.messagebox as tkmsg\n",
    "\n",
    "root = Tk()\n",
    "root.withdraw()\n",
    "tkmsg.showinfo(\n",
    "    \"Info\",\n",
    "    \"Some monospaced text\",\n",
    "    font=(\"Monospace\", 15)\n",
    ")\n",
    "root.mainloop()"
   ]
  },
  {
   "cell_type": "code",
   "execution_count": 10,
   "metadata": {},
   "outputs": [],
   "source": [
    "import tkinter as tk\n",
    "from tkinter import ttk\n",
    "from tkinter.messagebox import showerror, showwarning, showinfo\n",
    "\n",
    "# create the root window\n",
    "root = tk.Tk()\n",
    "root.title('Tkinter MessageBox')\n",
    "root.resizable(False, False)\n",
    "root.geometry('300x150')\n",
    "\n",
    "#\n",
    "options = {'fill': 'both', 'padx': 10, 'pady': 10, 'ipadx': 5}\n",
    "\n",
    "ttk.Button(\n",
    "    root,\n",
    "    text='Show an error message',\n",
    "    command=lambda: showerror(\n",
    "        title='Error',\n",
    "        message='This is an error message.')\n",
    ").pack(**options)\n",
    "root.mainloop()"
   ]
  },
  {
   "cell_type": "code",
   "execution_count": 28,
   "metadata": {},
   "outputs": [
    {
     "name": "stdout",
     "output_type": "stream",
     "text": [
      "True\n"
     ]
    }
   ],
   "source": [
    "import tkinter as tk\n",
    "from tkinter import messagebox\n",
    "\n",
    "root = tk.Tk()\n",
    "root.title('oxxo.studio')\n",
    "root.geometry('300x300')\n",
    "\n",
    "def askyesno():\n",
    "  result = messagebox.askyesno('askyesno', 'askno')\n",
    "  print(result)\n",
    "\n",
    "btn_askyesno = tk.Button(root, text='askyesno', command=askyesno)\n",
    "btn_askyesno.pack()\n",
    "\n",
    "root.mainloop()"
   ]
  },
  {
   "cell_type": "code",
   "execution_count": 31,
   "metadata": {},
   "outputs": [],
   "source": [
    "import os\n",
    "os.chdir('/')       # 移動路徑到根目錄\n",
    "\n",
    "import tkinter as tk\n",
    "from tkinter import Variable, filedialog\n",
    "\n",
    "root = tk.Tk()\n",
    "root.title('oxxo.studio')\n",
    "root.geometry('300x200')\n",
    "\n",
    "def show():\n",
    "    files = filedialog.askopenfilenames()\n",
    "    for i, e in enumerate(files):          # 使用 enumerate 將串列變成帶有索引值的字典\n",
    "        text.insert('end', f'{e}')         # Text 從後方加入內容\n",
    "        if i != len(files):\n",
    "            text.insert('end', '\\n')       # 如果是不是最後一行，都加入換行符號\n",
    "\n",
    "btn_open = tk.Button(root,\n",
    "                text='開啟檔案',\n",
    "                font=('Arial',20,'bold'),\n",
    "                command=show\n",
    "                )\n",
    "btn_open.pack()\n",
    "\n",
    "text = tk.Text(root, height=8)             # 加入 Text\n",
    "text.pack()\n",
    "\n",
    "root.mainloop()"
   ]
  },
  {
   "cell_type": "code",
   "execution_count": 294,
   "metadata": {},
   "outputs": [],
   "source": [
    "import tkinter as tk \n",
    "from tkinter import * \n",
    "from tkinter import scrolledtext \n",
    "from tkinter import ttk \n",
    "# root = tk.Tk()\n",
    "# monty = ttk.LabelFrame(root, text=' Monty Python') # 創建一個容器，其父容器爲win\n",
    "# monty.grid(column=0, row=0, padx=10, pady=10)\n",
    "# scr = scrolledtext.ScrolledText(monty, width=30, height=5, wrap=tk.WORD)\n",
    "# scr.grid(column=0, columnspan=3)\n",
    "# root.mainloop()\n",
    "\n",
    "root = tk.Tk() \n",
    "root.grid() \n",
    "app = ttk.Frame(root) \n",
    "app.grid()\n",
    "\n",
    "fram1 = tk.LabelFrame(app, text='1') \n",
    "txt1 = tk.Text(fram1) \n",
    "sl1 = Scrollbar(fram1) \n",
    "sl1['command'] = txt1.yview\n",
    "# sl1.grid(row=0, column=1,sticky=S + W  )\n",
    "# txt1.grid(row=0, column=0,sticky=S + W  )\n",
    "# fram1.grid(row=0, column=0, sticky=S + W )\n",
    "sl1.grid(row=0, column=1, sticky=S + W + E + N)\n",
    "txt1.grid(row=0, column=0, sticky=S + W + E + N)\n",
    "fram1.grid(row=0, column=0, sticky=S + W + E + N)\n",
    "mainloop()"
   ]
  },
  {
   "cell_type": "code",
   "execution_count": 280,
   "metadata": {},
   "outputs": [],
   "source": [
    "import tkinter as tk\n",
    "\n",
    "root = tk.Tk()\n",
    "root.title('oxxo.studio')\n",
    "root.geometry('200x200')\n",
    "\n",
    "frame = tk.Frame(root, height=10, width=15)   # 建立 Frame\n",
    "\n",
    "scrollbar = tk.Scrollbar(frame)               # 將 Frame 裡放入 Scrollbar\n",
    "scrollbar.pack(side='left', fill='y')        # 設定位置在右側，垂直填滿\n",
    "\n",
    "# 在 Frame 裡放入 text，設定 yscrollcommand=scrollbar.set\n",
    "text = tk.Text(frame, height=10, width=15, yscrollcommand=scrollbar.set)\n",
    "text.pack()\n",
    "\n",
    "scrollbar.config(command=text.yview)    # 設定 scrollbar 綁定 text 的 yview\n",
    "frame.pack()\n",
    "\n",
    "root.mainloop()"
   ]
  },
  {
   "cell_type": "code",
   "execution_count": 119,
   "metadata": {},
   "outputs": [],
   "source": [
    "# Import the required library\n",
    "from tkinter import *\n",
    "\n",
    "# Create an instance of tkinter frame\n",
    "win = Tk()\n",
    "\n",
    "# Define geometry of the window\n",
    "win.geometry(\"700x250\")\n",
    "\n",
    "def temp_text(e):\n",
    "   textbox.delete(0,\"end\")\n",
    "\n",
    "textbox = Entry(win, bg=\"white\", width=50, borderwidth=2)\n",
    "textbox.insert(0, \"This is Temporary Text...\")\n",
    "textbox.pack(pady=20)\n",
    "\n",
    "textbox.bind(\"<FocusIn>\", temp_text)\n",
    "\n",
    "win.mainloop()"
   ]
  },
  {
   "cell_type": "code",
   "execution_count": 78,
   "metadata": {},
   "outputs": [],
   "source": [
    "import tkinter as tk \n",
    "root=tk.Tk()\n",
    "tk.Label(root,text='用戶名').grid(row=0,column=0)\n",
    "tk.Label(root,text='password').grid(row=1,column=0)\n",
    "root.mainloop()"
   ]
  },
  {
   "cell_type": "code",
   "execution_count": 83,
   "metadata": {},
   "outputs": [
    {
     "data": {
      "text/plain": [
       "'taiwinner.0246@gmail.com ,gleam542@gmail.com,taiwinnerr@gmail.com,213232131561560992,151656156'"
      ]
     },
     "execution_count": 83,
     "metadata": {},
     "output_type": "execute_result"
    }
   ],
   "source": [
    "import pandas as pd\n",
    "df2=pd.read_excel(\"C:/Users/user/Desktop/mail/test2.xlsx\")\n",
    "df2.columns=['帳號']\n",
    "df2=[str(i) for i in df2['帳號']]\n",
    "s=\",\".join(df2)\n",
    "s\n"
   ]
  },
  {
   "cell_type": "code",
   "execution_count": 9,
   "metadata": {},
   "outputs": [
    {
     "data": {
      "text/plain": [
       "[('taiwinner.0246@gmail.com', 'gkxbuntwugflxzck'),\n",
       " ('gleam542@gmail.com', 'yxfumlmjybwscqfo'),\n",
       " ('taiwinnerr@gmail.com', 'nnakvewolsfmnmpz')]"
      ]
     },
     "execution_count": 9,
     "metadata": {},
     "output_type": "execute_result"
    }
   ],
   "source": [
    "ll=[]\n",
    "for i in x.values:\n",
    "    l=[]\n",
    "    for j in i:\n",
    "        l.append(j.strip())\n",
    "    ll.append(tuple(l))\n",
    "ll"
   ]
  },
  {
   "cell_type": "code",
   "execution_count": 13,
   "metadata": {},
   "outputs": [
    {
     "ename": "IndexError",
     "evalue": "pop index out of range",
     "output_type": "error",
     "traceback": [
      "\u001b[1;31m---------------------------------------------------------------------------\u001b[0m",
      "\u001b[1;31mIndexError\u001b[0m                                Traceback (most recent call last)",
      "\u001b[1;32mc:\\Users\\user\\Desktop\\mail\\test2.ipynb Cell 7\u001b[0m in \u001b[0;36m<cell line: 1>\u001b[1;34m()\u001b[0m\n\u001b[1;32m----> <a href='vscode-notebook-cell:/c%3A/Users/user/Desktop/mail/test2.ipynb#X14sZmlsZQ%3D%3D?line=0'>1</a>\u001b[0m ll\u001b[39m.\u001b[39;49mpop(\u001b[39m1\u001b[39;49m)\n",
      "\u001b[1;31mIndexError\u001b[0m: pop index out of range"
     ]
    }
   ],
   "source": []
  },
  {
   "cell_type": "code",
   "execution_count": 64,
   "metadata": {},
   "outputs": [
    {
     "data": {
      "text/plain": [
       "[('taiwinner.0246@gmail.com', 'gkxbuntwugflxzck'),\n",
       " ('gleam542@gmail.com', 'yxfumlmjybwscqfo'),\n",
       " ('taiwinnerr@gmail.com', 'nnakvewolsfmnmpz')]"
      ]
     },
     "execution_count": 64,
     "metadata": {},
     "output_type": "execute_result"
    }
   ],
   "source": [
    "#excel values tuple化\n",
    "import openpyxl\n",
    "import pandas as pd\n",
    "df= pd.read_excel('test.xlsx')\n",
    "df.columns=['郵箱','密碼']\n",
    "l=[]\n",
    "for i in df.values:\n",
    "    l.append(tuple(i))\n",
    "l"
   ]
  },
  {
   "cell_type": "code",
   "execution_count": 45,
   "metadata": {},
   "outputs": [],
   "source": [
    "import tkinter\n",
    "from tkinter import *\n",
    "\n",
    "reset = True\n",
    "\n",
    "#主計算程式\n",
    "def Calculate(event):\n",
    "  global label\n",
    "  global reset\n",
    "\n",
    "  try:\n",
    "    num = event.widget['text']\n",
    "    if num == 'C':\n",
    "      label['text'] = \"0\"\n",
    "      return\n",
    "    if num == \"=\":\n",
    "      label['text'] = str(eval(label['text']))\n",
    "      reset = True\n",
    "      return\n",
    "    s = label['text']\n",
    "    if s == '0' or reset == True:\n",
    "      s = \"\"\n",
    "      reset = False\n",
    "    label['text'] = s + num\n",
    "  except:\n",
    "    label['text'] = '輸入錯誤'\n",
    "\n",
    "#主視窗\n",
    "window = Tk()\n",
    "window.title('計算機')\n",
    "\n",
    "#顯示屏\n",
    "\n",
    "mainframe = tkinter.Frame(window, bg='pink')\n",
    "\n",
    "label = Label(mainframe, text=\"0\", font=('arial', 12), background=\"lightblue\", anchor=E)\n",
    "label['width'] = 37\n",
    "label['height'] = 1\n",
    "label.grid(row=0, columnspan=4, padx=2, pady=2, sticky=W)\n",
    "\n",
    "#按鍵\n",
    "showText1 = \"789/456*123-0.C+\"\n",
    "for i in range(4):\n",
    "  for j in range(4):\n",
    "    b=Button(mainframe, text=showText1[i*4+j], width=10)\n",
    "    b.grid(row=i+2, column=j, padx=2, pady=2)\n",
    "    b.bind(\"<Button-1>\", Calculate)\n",
    "\n",
    "showText2 = \"()\"\n",
    "for i in range(2):\n",
    "  b=Button(mainframe, text=showText2[i], width=10)\n",
    "  b.grid(row=6, column=2+i, padx=2, pady=2)\n",
    "  b.bind(\"<Button-1>\", Calculate)\n",
    "\n",
    "b = Button(mainframe, text=\"=\")\n",
    "b.grid(row=6, columnspan=2, sticky=\"we\")\n",
    "b.bind(\"<Button-1>\", Calculate)\n",
    "\n",
    "mainframe.pack(padx=5, pady=5)\n",
    "\n",
    "if __name__ == '__main__':\n",
    "    window.mainloop()"
   ]
  },
  {
   "cell_type": "code",
   "execution_count": 133,
   "metadata": {},
   "outputs": [],
   "source": [
    "import tkinter as tk\n",
    "root = tk.Tk()\n",
    "root.geometry(\"400x240\")\n",
    "\n",
    "def getTextInput():\n",
    "    result=textExample.get(\"1.0\",\"end\")\n",
    "    print(result)\n",
    "\n",
    "textExample=tk.Text(root, height=10)\n",
    "textExample.pack()\n",
    "btnRead=tk.Button(root, height=1, width=10, text=\"Read\", \n",
    "                    command=getTextInput)\n",
    "\n",
    "btnRead.pack()\n",
    "\n",
    "root.mainloop()"
   ]
  },
  {
   "cell_type": "code",
   "execution_count": 43,
   "metadata": {},
   "outputs": [
    {
     "ename": "TypeError",
     "evalue": "'Text' object is not callable",
     "output_type": "error",
     "traceback": [
      "\u001b[1;31m---------------------------------------------------------------------------\u001b[0m",
      "\u001b[1;31mTypeError\u001b[0m                                 Traceback (most recent call last)",
      "\u001b[1;32mc:\\Users\\user\\Desktop\\mail\\test2.ipynb Cell 14\u001b[0m in \u001b[0;36m<cell line: 12>\u001b[1;34m()\u001b[0m\n\u001b[0;32m     <a href='vscode-notebook-cell:/c%3A/Users/user/Desktop/mail/test2.ipynb#X12sZmlsZQ%3D%3D?line=9'>10</a>\u001b[0m root\u001b[39m.\u001b[39mgeometry(\u001b[39m'\u001b[39m\u001b[39m200x150\u001b[39m\u001b[39m'\u001b[39m)\n\u001b[0;32m     <a href='vscode-notebook-cell:/c%3A/Users/user/Desktop/mail/test2.ipynb#X12sZmlsZQ%3D%3D?line=10'>11</a>\u001b[0m text \u001b[39m=\u001b[39m tk\u001b[39m.\u001b[39mText(root)\n\u001b[1;32m---> <a href='vscode-notebook-cell:/c%3A/Users/user/Desktop/mail/test2.ipynb#X12sZmlsZQ%3D%3D?line=11'>12</a>\u001b[0m text(\u001b[39m\"\u001b[39;49m\u001b[39mBye Bye.....\u001b[39;49m\u001b[39m\"\u001b[39;49m)\n\u001b[0;32m     <a href='vscode-notebook-cell:/c%3A/Users/user/Desktop/mail/test2.ipynb#X12sZmlsZQ%3D%3D?line=12'>13</a>\u001b[0m text\u001b[39m.\u001b[39mpack()\n\u001b[0;32m     <a href='vscode-notebook-cell:/c%3A/Users/user/Desktop/mail/test2.ipynb#X12sZmlsZQ%3D%3D?line=14'>15</a>\u001b[0m myentry \u001b[39m=\u001b[39m tk\u001b[39m.\u001b[39mEntry(root)\n",
      "\u001b[1;31mTypeError\u001b[0m: 'Text' object is not callable"
     ]
    }
   ],
   "source": [
    "import tkinter as tk\n",
    "\n",
    "def button_event():\n",
    "    #print(myentry.get())\n",
    "    if myentry.get() != '':\n",
    "        mybutton['text'] = myentry.get()\n",
    "\n",
    "root = tk.Tk()\n",
    "root.title('my window')\n",
    "root.geometry('200x150')\n",
    "text = tk.Text(root)\n",
    "text(\"Bye Bye.....\")\n",
    "text.pack()\n",
    "\n",
    "myentry = tk.Entry(root)\n",
    "myentry.pack()\n",
    "\n",
    "mybutton = tk.Button(root, text='button', command=button_event)\n",
    "mybutton.pack()\n",
    "\n",
    "root.mainloop()"
   ]
  },
  {
   "cell_type": "code",
   "execution_count": 44,
   "metadata": {},
   "outputs": [
    {
     "ename": "SyntaxError",
     "evalue": "invalid syntax (3080038595.py, line 6)",
     "output_type": "error",
     "traceback": [
      "\u001b[1;36m  Input \u001b[1;32mIn [44]\u001b[1;36m\u001b[0m\n\u001b[1;33m    print textBox.get(1.0, 'end-1c')\u001b[0m\n\u001b[1;37m          ^\u001b[0m\n\u001b[1;31mSyntaxError\u001b[0m\u001b[1;31m:\u001b[0m invalid syntax\n"
     ]
    }
   ],
   "source": [
    "textBox = Text(root)\n",
    "\n",
    "textBox.focus_set()\n",
    "\n",
    "def get_input():\n",
    "    print textBox.get(1.0, 'end-1c')"
   ]
  },
  {
   "cell_type": "code",
   "execution_count": 137,
   "metadata": {},
   "outputs": [
    {
     "name": "stdout",
     "output_type": "stream",
     "text": [
      "{'id': '215', 'area': '萬華區', 'name': '莒光立體停車場', 'type': '1', 'type2': '1', 'summary': '機械式小型車123格(含身心障礙停車位3格)。', 'address': '莒光路137號', 'tel': '2240-8767', 'payex': '計時20元，全日月票4000元 ', 'serviceTime': '00:00:00~23:59:00', 'tw97x': '300803.109', 'tw97y': '2769313.81', 'totalcar': 123, 'totalmotor': 0, 'totalbike': 0, 'totalbus': 0, 'Pregnancy_First': '0', 'Handicap_First': '3', 'totallargemotor': '0', 'ChargingStation': '0', 'Taxi_OneHR_Free': '0', 'AED_Equipment': '0', 'CellSignal_Enhancement': '0', 'Accessibility_Elevator': '0', 'Phone_Charge': '0', 'Child_Pickup_Area': '0', 'FareInfo': {}, 'EntranceCoord': {}}\n",
      "{'id': '215', 'availablecar': 30, 'availablemotor': -9, 'availablebus': -9}\n",
      "{'id': '195', 'area': '萬華區', 'name': '新糖廊公園地下停車場', 'type': '1', 'type2': '2', 'summary': '為地下停車場，計有70個小型車格', 'address': '大理街160巷2號地下', 'tel': '2252-5022', 'payex': '計時20元，全日月票最高4800元，全日里民優惠月票最高3000元 ', 'serviceTime': '00:00:00~23:59:59', 'tw97x': '299906.178', 'tw97y': '2769594.70', 'totalcar': 70, 'totalmotor': 0, 'totalbike': 0, 'totalbus': 0, 'Pregnancy_First': '1', 'Handicap_First': '2', 'totallargemotor': '0', 'ChargingStation': '0', 'Taxi_OneHR_Free': '0', 'AED_Equipment': '0', 'CellSignal_Enhancement': '0', 'Accessibility_Elevator': '0', 'Phone_Charge': '0', 'Child_Pickup_Area': '0', 'FareInfo': {}, 'EntranceCoord': {}}\n",
      "{'id': '195', 'availablecar': 13, 'availablemotor': -9, 'availablebus': -9}\n",
      "{'id': '091', 'area': '萬華區', 'name': '艋舺公園地下停車場', 'type': '1', 'type2': '2', 'summary': '立體式小型車474格(含身心障礙停車位13格)。立體式機車274格(含身心障礙停車位6格)。', 'address': '西園路1段145號地下', 'tel': '2799-5657', 'payex': '計時：周一至周五30元/時(8-22)，周六至周日及政府行政機關放假之紀念日及民俗節日40元/時(8-22)，計時10元(22-8)；機車10元/時(當日當次最高收費上限20元，隔日另計)，全程半小時計算。月租：全日4,800元/月，日間(8-19)，日間時段性(10-22)，夜間(17-08)2,400元/月，機車全日月票300元/月。', 'serviceTime': '00:00:00~23:59:59', 'tw97x': '300460.842', 'tw97y': '2769887.43', 'totalcar': 531, 'totalmotor': 274, 'totalbike': 0, 'totalbus': 0, 'Pregnancy_First': '10', 'Handicap_First': '13', 'totallargemotor': '0', 'ChargingStation': '10', 'Taxi_OneHR_Free': '0', 'AED_Equipment': '0', 'CellSignal_Enhancement': '0', 'Accessibility_Elevator': '0', 'Phone_Charge': '0', 'Child_Pickup_Area': '0', 'FareInfo': {'WorkingDay': [{'Period': '00~08', 'Fare': '10'}, {'Period': '08~22', 'Fare': '30'}, {'Period': '22~24', 'Fare': '10'}], 'Holiday': [{'Period': '00~08', 'Fare': '10'}, {'Period': '08~22', 'Fare': '30'}, {'Period': '22~24', 'Fare': '10'}]}, 'EntranceCoord': {'EntrancecoordInfo': [{'Xcod': '25.03619', 'Ycod': '121.4993', 'Address': '西園路一段'}]}}\n",
      "{'id': '091', 'availablecar': 66, 'availablemotor': -9, 'availablebus': -9, 'ChargeStation': {'scoketStatusList': [{'spot_abrv': 'B4-4117', 'spot_status': '待機中'}, {'spot_abrv': 'B4-4118', 'spot_status': '待機中'}, {'spot_abrv': 'B4-4119', 'spot_status': '充電中'}, {'spot_abrv': 'B4-4120', 'spot_status': '待機中'}, {'spot_abrv': 'B4-4121', 'spot_status': '待機中'}, {'spot_abrv': 'B4-4122', 'spot_status': '待機中'}, {'spot_abrv': 'B4-4123', 'spot_status': '待機中'}, {'spot_abrv': 'B4-4124', 'spot_status': '待機中'}, {'spot_abrv': 'B4-4125', 'spot_status': '待機中'}, {'spot_abrv': 'B4-4126', 'spot_status': '待機中'}]}}\n",
      "{'id': '090', 'area': '萬華區', 'name': '萬板地下停車場', 'type': '1', 'type2': '1', 'summary': '立體式小型車180格(含身心障礙停車位4格)。', 'address': '艋舺大道462號地下', 'tel': '2303-2268', 'payex': '計時30元，全日月票5200元，日間月票3600元(7-19) ', 'serviceTime': '00:00:00~23:59:59', 'tw97x': '299577.554', 'tw97y': '2769038.60', 'totalcar': 180, 'totalmotor': 0, 'totalbike': 0, 'totalbus': 0, 'Pregnancy_First': '4', 'Handicap_First': '4', 'totallargemotor': '1', 'ChargingStation': '6', 'Taxi_OneHR_Free': '0', 'AED_Equipment': '0', 'CellSignal_Enhancement': '0', 'Accessibility_Elevator': '0', 'Phone_Charge': '0', 'Child_Pickup_Area': '0', 'FareInfo': {'WorkingDay': [{'Period': '00~08', 'Fare': '10'}, {'Period': '08~22', 'Fare': '30'}, {'Period': '22~24', 'Fare': '10'}], 'Holiday': [{'Period': '00~08', 'Fare': '10'}, {'Period': '08~22', 'Fare': '30'}, {'Period': '22~24', 'Fare': '10'}]}, 'EntranceCoord': {'EntrancecoordInfo': [{'Xcod': '25.02789', 'Ycod': '121.49033', 'Address': '華翠大橋'}]}}\n",
      "{'id': '090', 'availablecar': 48, 'availablemotor': -9, 'availablebus': -9, 'ChargeStation': {'scoketStatusList': [{'spot_abrv': '177', 'spot_status': '待機中'}, {'spot_abrv': '178', 'spot_status': '待機中'}, {'spot_abrv': '179', 'spot_status': '待機中'}, {'spot_abrv': '180', 'spot_status': '待機中'}, {'spot_abrv': '181', 'spot_status': '待機中'}, {'spot_abrv': '182', 'spot_status': '待機中'}]}}\n",
      "{'id': '069', 'area': '萬華區', 'name': '青年公園棒球場地下停車場', 'type': '1', 'type2': '1', 'summary': '立體式小型車276格(含身心障礙停車位6格)。立體式機車118格(含身心障礙停車位3格)。', 'address': '青年路69號地下', 'tel': '2309-2133', 'payex': '計時30元，全程以半小時計費。月租：全日月票4,800元，夜間月票2,400元(18-8)。機車計次20元，機車月票300元。本場提供計程車免費一小時服務。', 'serviceTime': '00:00:00~23:59:59', 'tw97x': '300790.825', 'tw97y': '2768479.84', 'totalcar': 276, 'totalmotor': 115, 'totalbike': 0, 'totalbus': 0, 'Pregnancy_First': '5', 'Handicap_First': '6', 'ChargingStation': '2', 'Taxi_OneHR_Free': '0', 'AED_Equipment': '0', 'CellSignal_Enhancement': '0', 'Accessibility_Elevator': '0', 'Phone_Charge': '0', 'Child_Pickup_Area': '0', 'FareInfo': {'WorkingDay': [{'Period': '00~24', 'Fare': '30'}], 'Holiday': [{'Period': '00~24', 'Fare': '30'}]}, 'EntranceCoord': {'EntrancecoordInfo': [{'Xcod': '25.02376497', 'Ycod': '121.5028903', 'Address': '青年路'}]}}\n",
      "{'id': '069', 'availablecar': 54, 'availablemotor': 25, 'availablebus': -9, 'ChargeStation': {'scoketStatusList': [{'spot_abrv': '081', 'spot_status': '充電中'}, {'spot_abrv': '082', 'spot_status': '充電中'}, {'spot_abrv': '038', 'spot_status': '充電中'}, {'spot_abrv': '039', 'spot_status': '待機中'}]}}\n",
      "{'id': '091', 'area': '萬華區', 'name': '艋舺公園地下停車場', 'type': '1', 'type2': '2', 'summary': '立體式小型車474格(含身心障礙停車位13格)。立體式機車274格(含身心障礙停車位6格)。', 'address': '西園路1段145號地下', 'tel': '2799-5657', 'payex': '計時：周一至周五30元/時(8-22)，周六至周日及政府行政機關放假之紀念日及民俗節日40元/時(8-22)，計時10元(22-8)；機車10元/時(當日當次最高收費上限20元，隔日另計)，全程半小時計算。月租：全日4,800元/月，日間(8-19)，日間時段性(10-22)，夜間(17-08)2,400元/月，機車全日月票300元/月。', 'serviceTime': '00:00:00~23:59:59', 'tw97x': '300460.842', 'tw97y': '2769887.43', 'totalcar': 531, 'totalmotor': 274, 'totalbike': 0, 'totalbus': 0, 'Pregnancy_First': '10', 'Handicap_First': '13', 'totallargemotor': '0', 'ChargingStation': '10', 'Taxi_OneHR_Free': '0', 'AED_Equipment': '0', 'CellSignal_Enhancement': '0', 'Accessibility_Elevator': '0', 'Phone_Charge': '0', 'Child_Pickup_Area': '0', 'FareInfo': {'WorkingDay': [{'Period': '00~08', 'Fare': '10'}, {'Period': '08~22', 'Fare': '30'}, {'Period': '22~24', 'Fare': '10'}], 'Holiday': [{'Period': '00~08', 'Fare': '10'}, {'Period': '08~22', 'Fare': '30'}, {'Period': '22~24', 'Fare': '10'}]}, 'EntranceCoord': {'EntrancecoordInfo': [{'Xcod': '25.03619', 'Ycod': '121.4993', 'Address': '西園路一段'}]}}\n",
      "{'id': '091', 'availablecar': 66, 'availablemotor': -9, 'availablebus': -9, 'ChargeStation': {'scoketStatusList': [{'spot_abrv': 'B4-4117', 'spot_status': '待機中'}, {'spot_abrv': 'B4-4118', 'spot_status': '待機中'}, {'spot_abrv': 'B4-4119', 'spot_status': '充電中'}, {'spot_abrv': 'B4-4120', 'spot_status': '待機中'}, {'spot_abrv': 'B4-4121', 'spot_status': '待機中'}, {'spot_abrv': 'B4-4122', 'spot_status': '待機中'}, {'spot_abrv': 'B4-4123', 'spot_status': '待機中'}, {'spot_abrv': 'B4-4124', 'spot_status': '待機中'}, {'spot_abrv': 'B4-4125', 'spot_status': '待機中'}, {'spot_abrv': 'B4-4126', 'spot_status': '待機中'}]}}\n",
      "{'id': '089', 'area': '信義區', 'name': '春光公園地下停車場', 'type': '1', 'type2': '1', 'summary': '立體式小型車213格(含身心障礙停車位5格)。立體式機車68格(含身心障礙停車位3格)。', 'address': '忠孝東路5段666號地下', 'tel': '2455-1299', 'payex': '小型車計時30元。全日月票6000元，日間月票3600元(7-19)，夜間月票3600元(19-8) 機車計時10元(當日當次最高收費上限20元，隔日另計)；月票300元', 'serviceTime': '00:00:00~23:59:59', 'tw97x': '308596.437', 'tw97y': '2770582.13', 'totalcar': 214, 'totalmotor': 68, 'totalbike': 0, 'totalbus': 0, 'Pregnancy_First': '4', 'Handicap_First': '5', 'totallargemotor': '5', 'ChargingStation': '5', 'Taxi_OneHR_Free': '0', 'AED_Equipment': '0', 'CellSignal_Enhancement': '0', 'Accessibility_Elevator': '0', 'Phone_Charge': '0', 'Child_Pickup_Area': '0', 'FareInfo': {'WorkingDay': [{'Period': '00~08', 'Fare': '10'}, {'Period': '08~20', 'Fare': '30'}, {'Period': '20~24', 'Fare': '10'}], 'Holiday': [{'Period': '00~08', 'Fare': '10'}, {'Period': '08~20', 'Fare': '30'}, {'Period': '20~24', 'Fare': '10'}]}, 'EntranceCoord': {'EntrancecoordInfo': [{'Xcod': '25.0424102', 'Ycod': '121.5810549', 'Address': '林口街'}, {'Xcod': '25.04206811', 'Ycod': '121.5804595', 'Address': '忠孝東路五段'}]}}\n",
      "{'id': '089', 'availablecar': 61, 'availablemotor': -9, 'availablebus': -9, 'ChargeStation': {'scoketStatusList': [{'spot_abrv': '114', 'spot_status': '待機中'}, {'spot_abrv': '116', 'spot_status': '待機中'}, {'spot_abrv': '117', 'spot_status': '待機中'}, {'spot_abrv': '101', 'spot_status': '待機中'}, {'spot_abrv': '102', 'spot_status': '充電中'}, {'spot_abrv': '103', 'spot_status': '待機中'}, {'spot_abrv': '104', 'spot_status': '待機中'}, {'spot_abrv': '105', 'spot_status': '待機中'}]}}\n",
      "{'id': '107', 'area': '信義區', 'name': '信義國小地下停車場', 'type': '1', 'type2': '1', 'summary': '立體式小型車232格(含身心障礙停車位5格)。立體式機車50格(含身心障礙停車位1格)。', 'address': '信義區松勤街60號地下', 'tel': '2758-8124', 'payex': '小型車計時40元，全日月票5000元，日間月票3000元(7-19)，夜間月票2400元(19-8) 機車計次20元；月票300元。111/01/23、01/29、01/30，10-20時，調整小型車費率，計時60元。', 'serviceTime': '00:00:00~23:59:59', 'tw97x': '306838.322', 'tw97y': '2769370.40', 'totalcar': 232, 'totalmotor': 50, 'totalbike': 0, 'totalbus': 0, 'Pregnancy_First': '4', 'Handicap_First': '5', 'totallargemotor': '0', 'ChargingStation': '2', 'Taxi_OneHR_Free': '0', 'AED_Equipment': '0', 'CellSignal_Enhancement': '0', 'Accessibility_Elevator': '0', 'Phone_Charge': '0', 'Child_Pickup_Area': '0', 'FareInfo': {'WorkingDay': [{'Period': '00~24', 'Fare': '30'}], 'Holiday': [{'Period': '00~24', 'Fare': '30'}]}, 'EntranceCoord': {'EntrancecoordInfo': [{'Xcod': '25.03211', 'Ycod': '121.56247', 'Address': '松勤街'}]}}\n",
      "{'id': '107', 'availablecar': 38, 'availablemotor': 19, 'availablebus': 0, 'ChargeStation': {'scoketStatusList': [{'spot_abrv': '124', 'spot_status': '待機中'}, {'spot_abrv': '125', 'spot_status': '待機中'}]}}\n",
      "{'id': '187', 'area': '信義區', 'name': '松山工農地下停車場', 'type': '1', 'type2': '1', 'summary': '立體式小型車239格(含身心障礙停車位5格)。立體式機車189格(含身心障礙停車位4格)。', 'address': '忠孝東路5段236巷15號地下', 'tel': '2345-0672', 'payex': '小型車全日月票5200元 小型車周一至周五計時30元，周六、日與行政機關放假之紀念日與民俗日計時40元 機車計時10元(當日當次最高收費上限20元，隔日另計)，月票300元', 'serviceTime': '00:00:00~23:59:59', 'tw97x': '307749.503', 'tw97y': '2770283.78', 'totalcar': 239, 'totalmotor': 189, 'totalbike': 0, 'totalbus': 0, 'Pregnancy_First': '4', 'Handicap_First': '5', 'totallargemotor': '2', 'ChargingStation': '2', 'Taxi_OneHR_Free': '0', 'AED_Equipment': '0', 'CellSignal_Enhancement': '0', 'Accessibility_Elevator': '0', 'Phone_Charge': '0', 'Child_Pickup_Area': '0', 'FareInfo': {'WorkingDay': [{'Period': '00~24', 'Fare': '30'}], 'Holiday': [{'Period': '00~24', 'Fare': '30'}]}, 'EntranceCoord': {'EntrancecoordInfo': [{'Xcod': '25.039022', 'Ycod': '121.572496', 'Address': '忠孝東路五段372巷28弄'}]}}\n",
      "{'id': '187', 'availablecar': 68, 'availablemotor': 95, 'availablebus': -9, 'ChargeStation': {'scoketStatusList': [{'spot_abrv': '001', 'spot_status': '待機中'}, {'spot_abrv': '002', 'spot_status': '待機中'}]}}\n",
      "{'id': '188', 'area': '信義區', 'name': '松山車站地下停車場', 'type': '1', 'type2': '1', 'summary': '立體式小型車431格(含身心障礙停車位16格)。', 'address': '松山路11號地下', 'tel': '2759-0666', 'payex': '周一至周四計時40元，周五至周日與行政機關放假之紀念日、民俗日計時50元(當日當次收費上限300元，隔日另計) 全日月票5500元，日間月票3600元(7-19) ', 'serviceTime': '00:00:00~23:59:59', 'tw97x': '308353.119', 'tw97y': '2771273.92', 'totalcar': 431, 'totalmotor': 0, 'totalbike': 0, 'totalbus': 0, 'Pregnancy_First': '8', 'Handicap_First': '16', 'totallargemotor': '1', 'ChargingStation': '4', 'Taxi_OneHR_Free': '0', 'AED_Equipment': '0', 'CellSignal_Enhancement': '0', 'Accessibility_Elevator': '0', 'Phone_Charge': '0', 'Child_Pickup_Area': '0', 'FareInfo': {'WorkingDay': [{'Period': '00~08', 'Fare': '30'}, {'Period': '08~22', 'Fare': '40'}, {'Period': '22~24', 'Fare': '30'}], 'Holiday': [{'Period': '00~08', 'Fare': '30'}, {'Period': '08~22', 'Fare': '40'}, {'Period': '22~24', 'Fare': '30'}]}, 'EntranceCoord': {'EntrancecoordInfo': [{'Xcod': '25.048115', 'Ycod': '121.578405', 'Address': '松隆路'}]}}\n",
      "{'id': '188', 'availablecar': 259, 'availablemotor': 0, 'availablebus': -9, 'ChargeStation': {'scoketStatusList': [{'spot_abrv': 'B1-6', 'spot_status': '待機中'}, {'spot_abrv': 'B1-7', 'spot_status': '待機中'}, {'spot_abrv': 'B1-8', 'spot_status': '待機中'}, {'spot_abrv': 'B1-9', 'spot_status': '待機中'}]}}\n",
      "{'id': '194', 'area': '信義區', 'name': '臺北文創停車場', 'type': '1', 'type2': '2', 'summary': '計有560個小型車格，1258個機車格', 'address': '菸廠路88號', 'tel': '2523-5000#135', 'payex': '汽車計時:80元/時，機車計時:10元/時，全程以半小時計。汽車月租:全天8000元/月，機車月租:全天800元/月。機車計次:一日30元/次(隔日另計)', 'serviceTime': '00:00:00~23:59:59', 'tw97x': '306701.169', 'tw97y': '2770841.79', 'totalcar': 560, 'totalmotor': 1258, 'totalbike': 0, 'totalbus': 0, 'Pregnancy_First': '0', 'Handicap_First': '11', 'totallargemotor': '0', 'ChargingStation': '0', 'Taxi_OneHR_Free': '0', 'AED_Equipment': '0', 'CellSignal_Enhancement': '0', 'Accessibility_Elevator': '0', 'Phone_Charge': '0', 'Child_Pickup_Area': '0', 'FareInfo': {}, 'EntranceCoord': {}}\n",
      "{'id': '194', 'availablecar': 422, 'availablemotor': 989, 'availablebus': -9}\n",
      "{'id': '298', 'area': '信義區', 'name': '新光三越百貨公司信義店台北信義分公司停車場', 'type': '2', 'summary': '大型車:0格，小型車:284格，機車:469格', 'address': '松壽路11號B3~B5', 'tel': '8780-1000', 'payex': '小型車100元/時，機車20元/時，停車時數逾1小時以上，其超過之不滿1小時部分，不逾30分鐘，以半小時計算', 'serviceTime': '平日:11時至21時30分；假日:11時至22時', 'tw97x': '307234.17390', 'tw97y': '2769901.62040', 'totalcar': 289, 'totalmotor': 479, 'totalbike': 0, 'totalbus': 0, 'FareInfo': {}, 'EntranceCoord': {}}\n",
      "{'id': '298', 'availablecar': 8, 'availablemotor': -9, 'availablebus': -9}\n"
     ]
    }
   ],
   "source": [
    "import requests\n",
    "import tkinter as tk\n",
    "from tkinter.font import Font\n",
    "\n",
    "\n",
    "class Window(tk.Tk):\n",
    "    def __init__(self):\n",
    "        super().__init__()\n",
    "        #取得網路上的資料\n",
    "        res = requests.get('https://tcgbusfs.blob.core.windows.net/blobtcmsv/TCMSV_alldesc.json')\n",
    "        jsonObj1 = res.json()\n",
    "        parking_data = jsonObj1['data']['park']\n",
    "\n",
    "        res = requests.get('https://tcgbusfs.blob.core.windows.net/blobtcmsv/TCMSV_allavailable.json')\n",
    "        jsonObj2 = res.json()\n",
    "        self.updated_time = jsonObj2['data'][\"UPDATETIME\"]\n",
    "        self.available_data = jsonObj2['data']['park']\n",
    "        self.selected_ids = [ad['id'] for ad in self.available_data]\n",
    "        self.selected_parking_data = [p for p in parking_data if p['id'] in self.selected_ids]\n",
    "\n",
    "        self.district_id_name = {}\n",
    "        for pd in self.selected_parking_data:\n",
    "            if (pd['id'] in self.selected_ids):\n",
    "                if pd['area'] in self.district_id_name:\n",
    "                    self.district_id_name[pd['area']].append((pd['id'], pd['name']))\n",
    "                else:\n",
    "                    self.district_id_name[pd['area']] = [(pd['id'], pd['name'])]\n",
    "        \n",
    "        \n",
    "        areas = ['中正區', '大同區', '中山區', '萬華區', \n",
    "        '信義區', '松山區', '大安區', '南港區', \n",
    "        '北投區', '內湖區', '士林區', '文山區']\n",
    "\n",
    "        #介面\n",
    "        self.title(\"台北市行政區\")\n",
    "        leftFrame = tk.Frame(self, bd=2, relief=tk.GROOVE, padx=10, pady=7)\n",
    "        buttonFont = Font(family='標楷體', size=16)\n",
    "\n",
    "        for index, area in enumerate(areas):\n",
    "            if index % 1 == 0:\n",
    "                parentframe = tk.Frame(leftFrame)\n",
    "                parentframe.pack(pady=(0,3))\n",
    "            btn = tk.Button(parentframe, text=area, font=buttonFont, bg=\"gray9\",fg=\"white\",padx=5, pady=8)\n",
    "            btn.bind('<Button-1>', self.userClick)\n",
    "            btn.pack(side=tk.LEFT, padx=5)\n",
    "        leftFrame.pack(side=tk.LEFT,padx=10, pady=(0,10))\n",
    "\n",
    "\n",
    "\n",
    "\n",
    "        #建立下方radioButton的介面\n",
    "        self.fixedWidthFrame = tk.Frame(self,height=600)\n",
    "        self.createdRadioButtonFrame()\n",
    "        self.fixedWidthFrame.pack(padx=20)\n",
    "\n",
    "        #建立message介面\n",
    "        messageDisplayFrame = tk.Frame(self,bd=2,relief=tk.GROOVE,padx=20,pady=10)\n",
    "        self.mdayLabel = tk.Label(messageDisplayFrame, text=\"記錄時間:\")\n",
    "        self.mdayLabel.pack(anchor=tk.W)\n",
    "        self.nameLabel = tk.Label(messageDisplayFrame,text=\"站名:\")\n",
    "        self.nameLabel.pack(anchor=tk.W)\n",
    "        self.arLabel = tk.Label(messageDisplayFrame,text=\"地址:\")\n",
    "        self.arLabel.pack(anchor=tk.W)\n",
    "        self.totcarLabel = tk.Label(messageDisplayFrame, text=\"總汽車空位數:\")\n",
    "        self.totcarLabel.pack(anchor=tk.W)\n",
    "        self.carempLabel = tk.Label(messageDisplayFrame, text=\"汽車剩餘空位數量:\")\n",
    "        self.carempLabel.pack(anchor=tk.W)\n",
    "        self.totmotorLabel = tk.Label(messageDisplayFrame, text=\"總機車空位數:\")\n",
    "        self.totmotorLabel.pack(anchor=tk.W)\n",
    "        self.motorempLabel = tk.Label(messageDisplayFrame, text=\"機車剩餘空位數量:\")\n",
    "        self.motorempLabel.pack(anchor=tk.W)\n",
    "        messageDisplayFrame.pack(expand=True,fill=tk.BOTH,padx=20,pady=20)\n",
    "\n",
    "\n",
    "\n",
    "\n",
    "    def userClick(self,event):\n",
    "        self.bottomFrame.destroy()\n",
    "        self.selectedArea = event.widget['text']\n",
    "\n",
    "        park_name_lst = [p[1] for p in self.district_id_name[self.selectedArea]]\n",
    "        self.createdRadioButtonFrame(data=park_name_lst)\n",
    "\n",
    "    def createdRadioButtonFrame(self,data=None):\n",
    "        self.bottomFrame = tk.Frame(self.fixedWidthFrame, bd=2, relief=tk.GROOVE, padx=10, pady=10)\n",
    "        if data == None:\n",
    "            self.radioButtonData = []\n",
    "        else:\n",
    "            self.radioButtonData = data\n",
    "        self.stringVar = tk.StringVar()\n",
    "\n",
    "        for index, data in enumerate(self.radioButtonData):\n",
    "            if index % 18== 0:\n",
    "                parentframe = tk.Frame(self.bottomFrame)\n",
    "                parentframe.pack(side=tk.LEFT,expand=True,fill=tk.BOTH)\n",
    "            radioButton = tk.Radiobutton(parentframe, text=data, value=data, variable=self.stringVar,command=self.userChoicedRadioButton).pack(anchor=tk.W)\n",
    "        self.bottomFrame.pack(pady=(0,10))\n",
    "        self.stringVar.set(0)\n",
    "\n",
    "    def userChoicedRadioButton(self):\n",
    "\n",
    "        park_lot_name = self.stringVar.get()\n",
    "        park_lot_id = 0\n",
    "\n",
    "        for p in self.district_id_name[self.selectedArea]:\n",
    "            if p[1] == park_lot_name:\n",
    "                park_lot_id = p[0]\n",
    "\n",
    "        data = [p for p in self.selected_parking_data if p['id'] == park_lot_id][0]\n",
    "        avail_data = [p for p in self.available_data if p['id'] == park_lot_id][0]\n",
    "        print(data)\n",
    "        print(avail_data)\n",
    "\n",
    "        \n",
    "        self.mdayLabel[\"text\"] = \"記錄時間: {}\".format(self.updated_time)\n",
    "        self.nameLabel[\"text\"] = \"站名: {}\".format(park_lot_name)\n",
    "        self.arLabel[\"text\"] = \"地址: {}\".format(data['address'])\n",
    "\n",
    "        availablecar = avail_data['availablecar']\n",
    "        if availablecar == -9:\n",
    "            availablecar = \"目前無法取得即時資訊\"\n",
    "        self.carempLabel[\"text\"] = \"汽車剩餘空位數量: {}\".format(availablecar)\n",
    "\n",
    "        availablemotor = avail_data['availablemotor']\n",
    "        if availablemotor == -9:\n",
    "            availablemotor = \"目前無法取得即時資訊\"\n",
    "        self.motorempLabel[\"text\"] = \"機車剩餘空位數量: {}\".format(availablemotor)\n",
    "\n",
    "        self.totcarLabel[\"text\"] = \"總汽車空位數: {}\".format(data['totalcar'])\n",
    "        self.totmotorLabel[\"text\"] = \"總機車空位數: {}\".format(data['totalmotor'])\n",
    "\n",
    "        \n",
    "\n",
    "if __name__ == \"__main__\":\n",
    "    window = Window()\n",
    "    window.geometry(\"+50+0\")\n",
    "    window.mainloop()"
   ]
  }
 ],
 "metadata": {
  "kernelspec": {
   "display_name": "Python 3 (ipykernel)",
   "language": "python",
   "name": "python3"
  },
  "language_info": {
   "codemirror_mode": {
    "name": "ipython",
    "version": 3
   },
   "file_extension": ".py",
   "mimetype": "text/x-python",
   "name": "python",
   "nbconvert_exporter": "python",
   "pygments_lexer": "ipython3",
   "version": "3.8.10"
  },
  "vscode": {
   "interpreter": {
    "hash": "6a926afa313b26ae1264fdcf81c726a97e69f6ba2ba780f6aa901948710f8d6e"
   }
  }
 },
 "nbformat": 4,
 "nbformat_minor": 2
}
